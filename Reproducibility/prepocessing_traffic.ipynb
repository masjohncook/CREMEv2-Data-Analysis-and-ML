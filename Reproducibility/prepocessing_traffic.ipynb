{
 "cells": [
  {
   "cell_type": "code",
   "execution_count": 1,
   "metadata": {},
   "outputs": [],
   "source": [
    "import os\n",
    "import pandas as pd\n",
    "import numpy as np\n",
    "from matplotlib import pyplot as plt\n",
    "\n",
    "folder = os.path.join(\"/\", \"RanD\", \"CREMEv2_Result\", \"Reproducibility_Measurement\", \"Working\")\n",
    "destination_folder = os.path.join(\"/\", \"RanD\", \"CREMEv2_Result\", \"Reproducibility_Measurement\", \"Working\", \"traffic\", \"Final\")\n",
    "data_dir = [\"accounting\", \"syslog\", \"traffic\"]\n",
    "del_col = \"Label\"\n",
    "del_cols_list = [\"Label\", \"Label_lifecycle\"]\n"
   ]
  },
  {
   "cell_type": "code",
   "execution_count": 2,
   "metadata": {},
   "outputs": [
    {
     "name": "stdout",
     "output_type": "stream",
     "text": [
      "<class 'pandas.core.frame.DataFrame'>\n",
      "RangeIndex: 2359671 entries, 0 to 2359670\n",
      "Data columns (total 57 columns):\n",
      " #   Column        Dtype  \n",
      "---  ------        -----  \n",
      " 0   StartTime     float64\n",
      " 1   Sport         int64  \n",
      " 2   Dport         int64  \n",
      " 3   TotPkts       int64  \n",
      " 4   TotBytes      int64  \n",
      " 5   LastTime      float64\n",
      " 6   Seq           int64  \n",
      " 7   Dur           float64\n",
      " 8   Mean          float64\n",
      " 9   StdDev        float64\n",
      " 10  Sum           float64\n",
      " 11  Min           float64\n",
      " 12  Max           float64\n",
      " 13  SrcPkts       int64  \n",
      " 14  DstPkts       int64  \n",
      " 15  SrcBytes      int64  \n",
      " 16  DstBytes      int64  \n",
      " 17  Rate          float64\n",
      " 18  SrcRate       float64\n",
      " 19  DstRate       float64\n",
      " 20  Flgs_ e       int64  \n",
      " 21  Flgs_ e   t   int64  \n",
      " 22  Flgs_ e *     int64  \n",
      " 23  Flgs_ e d     int64  \n",
      " 24  Flgs_ e d t   int64  \n",
      " 25  Flgs_ e g     int64  \n",
      " 26  Flgs_ e s     int64  \n",
      " 27  Flgs_ eU      int64  \n",
      " 28  Flgs_ eUs     int64  \n",
      " 29  Proto_arp     int64  \n",
      " 30  Proto_icmp    int64  \n",
      " 31  Proto_tcp     int64  \n",
      " 32  Proto_udp     int64  \n",
      " 33  State_CON     int64  \n",
      " 34  State_E       int64  \n",
      " 35  State_ECO     int64  \n",
      " 36  State_ER      int64  \n",
      " 37  State_INT     int64  \n",
      " 38  State_REQ     int64  \n",
      " 39  State_URH     int64  \n",
      " 40  State_URP     int64  \n",
      " 41  State_fFR     int64  \n",
      " 42  State_fR      int64  \n",
      " 43  State_s       int64  \n",
      " 44  State_sE      int64  \n",
      " 45  State_sER     int64  \n",
      " 46  State_sEf     int64  \n",
      " 47  State_sEfR    int64  \n",
      " 48  State_sR      int64  \n",
      " 49  State_sS      int64  \n",
      " 50  State_sSE     int64  \n",
      " 51  State_sSER    int64  \n",
      " 52  State_sSEf    int64  \n",
      " 53  State_sSEfF   int64  \n",
      " 54  State_sSEfFR  int64  \n",
      " 55  State_sSEfR   int64  \n",
      " 56  State_sSR     int64  \n",
      "dtypes: float64(11), int64(46)\n",
      "memory usage: 1.0 GB\n"
     ]
    }
   ],
   "source": [
    "df1 = pd.read_csv(os.path.join(folder, \"traffic\", \"clean_label_traffic_20230207.csv\"))\n",
    "df1.info()"
   ]
  },
  {
   "cell_type": "code",
   "execution_count": 3,
   "metadata": {},
   "outputs": [
    {
     "name": "stdout",
     "output_type": "stream",
     "text": [
      "['State_fR', 'State_sSER', 'Sport', 'Sum', 'State_sER', 'State_ECO', 'State_sSEfR', 'State_sS', 'Proto_icmp', 'State_sSE', 'Dur', 'StdDev', 'Max', 'SrcPkts', 'State_fFR', 'TotBytes', 'Flgs_ e d t', 'State_sSR', 'DstPkts', 'State_ER', 'Flgs_ e g', 'State_INT', 'Flgs_ e *', 'DstRate', 'Proto_udp', 'Min', 'Flgs_ e d', 'Flgs_ e', 'State_sR', 'State_s', 'Flgs_ e s', 'SrcRate', 'LastTime', 'State_URH', 'TotPkts', 'SrcBytes', 'Mean', 'State_sSEf', 'State_sSEfF', 'State_CON', 'Dport', 'StartTime', 'State_fF', 'Rate', 'Flgs_ eU', 'State_E', 'Proto_tcp', 'Flgs_ eUs', 'State_sSEfFR', 'State_URP', 'Proto_arp', 'DstBytes', 'Seq']\n"
     ]
    }
   ],
   "source": [
    "# df1 = pd.read_csv(os.path.join(folder, \"traffic\", \"clean_label_traffic_20230113.csv\"))\n",
    "# df2 = pd.read_csv(os.path.join(folder, \"traffic\", \"clean_label_traffic_20230207.csv\"))\n",
    "df1 = pd.read_csv(os.path.join(folder, \"traffic\", \"clean_label_traffic_20230310.csv\"))\n",
    "df2 = pd.read_csv(os.path.join(folder, \"traffic\", \"clean_label_traffic_20230420.csv\"))\n",
    "# df5 = pd.read_csv(os.path.join(folder, \"traffic\", \"clean_label_traffic_20230420B.csv\"))\n",
    "df3 = pd.read_csv(os.path.join(folder, \"traffic\", \"clean_label_traffic_20230424.csv\"))\n",
    "df4 = pd.read_csv(os.path.join(folder, \"traffic\", \"clean_label_traffic_20230426.csv\"))\n",
    "df5 = pd.read_csv(os.path.join(folder, \"traffic\", \"clean_label_traffic_20230502.csv\"))\n",
    "\n",
    "common_features = list(set(df1.columns) & set(df2.columns) & set(df3.columns) & set(df4.columns) & set(df5.columns))\n",
    "\n",
    "print(common_features)\n",
    "\n",
    "\n"
   ]
  },
  {
   "cell_type": "code",
   "execution_count": 4,
   "metadata": {},
   "outputs": [
    {
     "name": "stdout",
     "output_type": "stream",
     "text": [
      "['State_fR', 'State_sSER', 'Sport', 'Sum', 'State_sER', 'State_ECO', 'State_sSEfR', 'State_sS', 'Proto_icmp', 'State_sSE', 'Dur', 'StdDev', 'Max', 'SrcPkts', 'State_fFR', 'TotBytes', 'Flgs_ e d t', 'State_sSR', 'DstPkts', 'State_ER', 'Flgs_ e g', 'State_INT', 'Flgs_ e *', 'DstRate', 'Proto_udp', 'Min', 'Flgs_ e d', 'Flgs_ e', 'State_sR', 'State_s', 'Flgs_ e s', 'SrcRate', 'LastTime', 'State_URH', 'TotPkts', 'SrcBytes', 'Mean', 'State_sSEf', 'State_sSEfF', 'State_CON', 'Dport', 'StartTime', 'State_fF', 'Rate', 'Flgs_ eU', 'State_E', 'Proto_tcp', 'Flgs_ eUs', 'State_sSEfFR', 'State_URP', 'Proto_arp', 'DstBytes', 'Seq']\n"
     ]
    }
   ],
   "source": [
    "print(common_features)\n",
    "datas = [\"clean_label_traffic_20230310.csv\", \n",
    "         \"clean_label_traffic_20230420.csv\", \n",
    "         \"clean_label_traffic_20230424.csv\", \n",
    "         \"clean_label_traffic_20230426.csv\", \n",
    "         \"clean_label_traffic_20230502.csv\"]\n",
    "del_cols_list = [ 'LastTime', 'StartTime']\n",
    "\n",
    "for file in datas:\n",
    "    if file.endswith('.csv'):\n",
    "        df = pd.read_csv(os.path.join(folder, \"traffic\", file))\n",
    "        df.columns = df.columns.to_series().apply(lambda x: x.strip())\n",
    "        df = df[common_features]\n",
    "        df.drop(columns=del_cols_list)\n",
    "        \n",
    "        output_file = os.path.join(destination_folder, \"final_\"+file)\n",
    "        df.to_csv(output_file, encoding='UTF-8', index=False)"
   ]
  }
 ],
 "metadata": {
  "kernelspec": {
   "display_name": "base",
   "language": "python",
   "name": "python3"
  },
  "language_info": {
   "codemirror_mode": {
    "name": "ipython",
    "version": 3
   },
   "file_extension": ".py",
   "mimetype": "text/x-python",
   "name": "python",
   "nbconvert_exporter": "python",
   "pygments_lexer": "ipython3",
   "version": "3.9.13"
  },
  "orig_nbformat": 4
 },
 "nbformat": 4,
 "nbformat_minor": 2
}
