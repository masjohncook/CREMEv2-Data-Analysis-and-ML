{
 "cells": [
  {
   "cell_type": "code",
   "execution_count": 1,
   "metadata": {},
   "outputs": [],
   "source": [
    "import os\n",
    "import pandas as pd\n",
    "import numpy as np\n",
    "from matplotlib import pyplot as plt\n",
    "\n",
    "folder = os.path.join(\"/\", \"RanD\", \"CREMEv2_Result\", \"Reproducibility_Measurement\", \"Working\")\n",
    "destination_folder = os.path.join(\"/\", \"RanD\", \"CREMEv2_Result\", \"Reproducibility_Measurement\", \"Working\", \"traffic\", \"Final\")\n",
    "data_dir = [\"accounting\", \"syslog\", \"traffic\"]\n",
    "del_col = \"Label\"\n",
    "del_cols_list = [\"Label\", \"Label_lifecycle\"]\n"
   ]
  },
  {
   "cell_type": "code",
   "execution_count": 3,
   "metadata": {},
   "outputs": [
    {
     "name": "stdout",
     "output_type": "stream",
     "text": [
      "<class 'pandas.core.frame.DataFrame'>\n",
      "RangeIndex: 2359671 entries, 0 to 2359670\n",
      "Data columns (total 57 columns):\n",
      " #   Column        Dtype  \n",
      "---  ------        -----  \n",
      " 0   StartTime     float64\n",
      " 1   Sport         int64  \n",
      " 2   Dport         int64  \n",
      " 3   TotPkts       int64  \n",
      " 4   TotBytes      int64  \n",
      " 5   LastTime      float64\n",
      " 6   Seq           int64  \n",
      " 7   Dur           float64\n",
      " 8   Mean          float64\n",
      " 9   StdDev        float64\n",
      " 10  Sum           float64\n",
      " 11  Min           float64\n",
      " 12  Max           float64\n",
      " 13  SrcPkts       int64  \n",
      " 14  DstPkts       int64  \n",
      " 15  SrcBytes      int64  \n",
      " 16  DstBytes      int64  \n",
      " 17  Rate          float64\n",
      " 18  SrcRate       float64\n",
      " 19  DstRate       float64\n",
      " 20  Flgs_ e       int64  \n",
      " 21  Flgs_ e   t   int64  \n",
      " 22  Flgs_ e *     int64  \n",
      " 23  Flgs_ e d     int64  \n",
      " 24  Flgs_ e d t   int64  \n",
      " 25  Flgs_ e g     int64  \n",
      " 26  Flgs_ e s     int64  \n",
      " 27  Flgs_ eU      int64  \n",
      " 28  Flgs_ eUs     int64  \n",
      " 29  Proto_arp     int64  \n",
      " 30  Proto_icmp    int64  \n",
      " 31  Proto_tcp     int64  \n",
      " 32  Proto_udp     int64  \n",
      " 33  State_CON     int64  \n",
      " 34  State_E       int64  \n",
      " 35  State_ECO     int64  \n",
      " 36  State_ER      int64  \n",
      " 37  State_INT     int64  \n",
      " 38  State_REQ     int64  \n",
      " 39  State_URH     int64  \n",
      " 40  State_URP     int64  \n",
      " 41  State_fFR     int64  \n",
      " 42  State_fR      int64  \n",
      " 43  State_s       int64  \n",
      " 44  State_sE      int64  \n",
      " 45  State_sER     int64  \n",
      " 46  State_sEf     int64  \n",
      " 47  State_sEfR    int64  \n",
      " 48  State_sR      int64  \n",
      " 49  State_sS      int64  \n",
      " 50  State_sSE     int64  \n",
      " 51  State_sSER    int64  \n",
      " 52  State_sSEf    int64  \n",
      " 53  State_sSEfF   int64  \n",
      " 54  State_sSEfFR  int64  \n",
      " 55  State_sSEfR   int64  \n",
      " 56  State_sSR     int64  \n",
      "dtypes: float64(11), int64(46)\n",
      "memory usage: 1.0 GB\n"
     ]
    }
   ],
   "source": [
    "df1 = pd.read_csv(os.path.join(folder, \"traffic\", \"clean_label_traffic_20230207.csv\"))\n",
    "df1.info()"
   ]
  },
  {
   "cell_type": "code",
   "execution_count": 4,
   "metadata": {},
   "outputs": [
    {
     "ename": "KeyError",
     "evalue": "\"['State_REQ'] not found in axis\"",
     "output_type": "error",
     "traceback": [
      "\u001b[0;31m---------------------------------------------------------------------------\u001b[0m",
      "\u001b[0;31mKeyError\u001b[0m                                  Traceback (most recent call last)",
      "\u001b[0;32m/tmp/ipykernel_18419/633522310.py\u001b[0m in \u001b[0;36m<module>\u001b[0;34m\u001b[0m\n\u001b[1;32m      4\u001b[0m     \u001b[0;32mif\u001b[0m \u001b[0mfile\u001b[0m\u001b[0;34m.\u001b[0m\u001b[0mendswith\u001b[0m\u001b[0;34m(\u001b[0m\u001b[0;34m'.csv'\u001b[0m\u001b[0;34m)\u001b[0m\u001b[0;34m:\u001b[0m\u001b[0;34m\u001b[0m\u001b[0;34m\u001b[0m\u001b[0m\n\u001b[1;32m      5\u001b[0m         \u001b[0mdf\u001b[0m \u001b[0;34m=\u001b[0m \u001b[0mpd\u001b[0m\u001b[0;34m.\u001b[0m\u001b[0mread_csv\u001b[0m\u001b[0;34m(\u001b[0m\u001b[0mos\u001b[0m\u001b[0;34m.\u001b[0m\u001b[0mpath\u001b[0m\u001b[0;34m.\u001b[0m\u001b[0mjoin\u001b[0m\u001b[0;34m(\u001b[0m\u001b[0mfolder\u001b[0m\u001b[0;34m,\u001b[0m \u001b[0;34m\"traffic\"\u001b[0m\u001b[0;34m,\u001b[0m \u001b[0mfile\u001b[0m\u001b[0;34m)\u001b[0m\u001b[0;34m)\u001b[0m\u001b[0;34m\u001b[0m\u001b[0;34m\u001b[0m\u001b[0m\n\u001b[0;32m----> 6\u001b[0;31m         \u001b[0mdf\u001b[0m\u001b[0;34m.\u001b[0m\u001b[0mdrop\u001b[0m\u001b[0;34m(\u001b[0m\u001b[0mcolumns\u001b[0m\u001b[0;34m=\u001b[0m\u001b[0mdel_list\u001b[0m\u001b[0;34m,\u001b[0m \u001b[0minplace\u001b[0m\u001b[0;34m=\u001b[0m\u001b[0;32mTrue\u001b[0m\u001b[0;34m)\u001b[0m\u001b[0;34m\u001b[0m\u001b[0;34m\u001b[0m\u001b[0m\n\u001b[0m\u001b[1;32m      7\u001b[0m         \u001b[0mdf\u001b[0m\u001b[0;34m.\u001b[0m\u001b[0mcolumns\u001b[0m \u001b[0;34m=\u001b[0m \u001b[0mdf\u001b[0m\u001b[0;34m.\u001b[0m\u001b[0mcolumns\u001b[0m\u001b[0;34m.\u001b[0m\u001b[0mto_series\u001b[0m\u001b[0;34m(\u001b[0m\u001b[0;34m)\u001b[0m\u001b[0;34m.\u001b[0m\u001b[0mapply\u001b[0m\u001b[0;34m(\u001b[0m\u001b[0;32mlambda\u001b[0m \u001b[0mx\u001b[0m\u001b[0;34m:\u001b[0m \u001b[0mx\u001b[0m\u001b[0;34m.\u001b[0m\u001b[0mstrip\u001b[0m\u001b[0;34m(\u001b[0m\u001b[0;34m)\u001b[0m\u001b[0;34m)\u001b[0m\u001b[0;34m\u001b[0m\u001b[0;34m\u001b[0m\u001b[0m\n\u001b[1;32m      8\u001b[0m \u001b[0;34m\u001b[0m\u001b[0m\n",
      "\u001b[0;32m/opt/anaconda3/lib/python3.9/site-packages/pandas/util/_decorators.py\u001b[0m in \u001b[0;36mwrapper\u001b[0;34m(*args, **kwargs)\u001b[0m\n\u001b[1;32m    309\u001b[0m                     \u001b[0mstacklevel\u001b[0m\u001b[0;34m=\u001b[0m\u001b[0mstacklevel\u001b[0m\u001b[0;34m,\u001b[0m\u001b[0;34m\u001b[0m\u001b[0;34m\u001b[0m\u001b[0m\n\u001b[1;32m    310\u001b[0m                 )\n\u001b[0;32m--> 311\u001b[0;31m             \u001b[0;32mreturn\u001b[0m \u001b[0mfunc\u001b[0m\u001b[0;34m(\u001b[0m\u001b[0;34m*\u001b[0m\u001b[0margs\u001b[0m\u001b[0;34m,\u001b[0m \u001b[0;34m**\u001b[0m\u001b[0mkwargs\u001b[0m\u001b[0;34m)\u001b[0m\u001b[0;34m\u001b[0m\u001b[0;34m\u001b[0m\u001b[0m\n\u001b[0m\u001b[1;32m    312\u001b[0m \u001b[0;34m\u001b[0m\u001b[0m\n\u001b[1;32m    313\u001b[0m         \u001b[0;32mreturn\u001b[0m \u001b[0mwrapper\u001b[0m\u001b[0;34m\u001b[0m\u001b[0;34m\u001b[0m\u001b[0m\n",
      "\u001b[0;32m/opt/anaconda3/lib/python3.9/site-packages/pandas/core/frame.py\u001b[0m in \u001b[0;36mdrop\u001b[0;34m(self, labels, axis, index, columns, level, inplace, errors)\u001b[0m\n\u001b[1;32m   4955\u001b[0m                 \u001b[0mweight\u001b[0m  \u001b[0;36m1.0\u001b[0m     \u001b[0;36m0.8\u001b[0m\u001b[0;34m\u001b[0m\u001b[0;34m\u001b[0m\u001b[0m\n\u001b[1;32m   4956\u001b[0m         \"\"\"\n\u001b[0;32m-> 4957\u001b[0;31m         return super().drop(\n\u001b[0m\u001b[1;32m   4958\u001b[0m             \u001b[0mlabels\u001b[0m\u001b[0;34m=\u001b[0m\u001b[0mlabels\u001b[0m\u001b[0;34m,\u001b[0m\u001b[0;34m\u001b[0m\u001b[0;34m\u001b[0m\u001b[0m\n\u001b[1;32m   4959\u001b[0m             \u001b[0maxis\u001b[0m\u001b[0;34m=\u001b[0m\u001b[0maxis\u001b[0m\u001b[0;34m,\u001b[0m\u001b[0;34m\u001b[0m\u001b[0;34m\u001b[0m\u001b[0m\n",
      "\u001b[0;32m/opt/anaconda3/lib/python3.9/site-packages/pandas/core/generic.py\u001b[0m in \u001b[0;36mdrop\u001b[0;34m(self, labels, axis, index, columns, level, inplace, errors)\u001b[0m\n\u001b[1;32m   4265\u001b[0m         \u001b[0;32mfor\u001b[0m \u001b[0maxis\u001b[0m\u001b[0;34m,\u001b[0m \u001b[0mlabels\u001b[0m \u001b[0;32min\u001b[0m \u001b[0maxes\u001b[0m\u001b[0;34m.\u001b[0m\u001b[0mitems\u001b[0m\u001b[0;34m(\u001b[0m\u001b[0;34m)\u001b[0m\u001b[0;34m:\u001b[0m\u001b[0;34m\u001b[0m\u001b[0;34m\u001b[0m\u001b[0m\n\u001b[1;32m   4266\u001b[0m             \u001b[0;32mif\u001b[0m \u001b[0mlabels\u001b[0m \u001b[0;32mis\u001b[0m \u001b[0;32mnot\u001b[0m \u001b[0;32mNone\u001b[0m\u001b[0;34m:\u001b[0m\u001b[0;34m\u001b[0m\u001b[0;34m\u001b[0m\u001b[0m\n\u001b[0;32m-> 4267\u001b[0;31m                 \u001b[0mobj\u001b[0m \u001b[0;34m=\u001b[0m \u001b[0mobj\u001b[0m\u001b[0;34m.\u001b[0m\u001b[0m_drop_axis\u001b[0m\u001b[0;34m(\u001b[0m\u001b[0mlabels\u001b[0m\u001b[0;34m,\u001b[0m \u001b[0maxis\u001b[0m\u001b[0;34m,\u001b[0m \u001b[0mlevel\u001b[0m\u001b[0;34m=\u001b[0m\u001b[0mlevel\u001b[0m\u001b[0;34m,\u001b[0m \u001b[0merrors\u001b[0m\u001b[0;34m=\u001b[0m\u001b[0merrors\u001b[0m\u001b[0;34m)\u001b[0m\u001b[0;34m\u001b[0m\u001b[0;34m\u001b[0m\u001b[0m\n\u001b[0m\u001b[1;32m   4268\u001b[0m \u001b[0;34m\u001b[0m\u001b[0m\n\u001b[1;32m   4269\u001b[0m         \u001b[0;32mif\u001b[0m \u001b[0minplace\u001b[0m\u001b[0;34m:\u001b[0m\u001b[0;34m\u001b[0m\u001b[0;34m\u001b[0m\u001b[0m\n",
      "\u001b[0;32m/opt/anaconda3/lib/python3.9/site-packages/pandas/core/generic.py\u001b[0m in \u001b[0;36m_drop_axis\u001b[0;34m(self, labels, axis, level, errors, consolidate, only_slice)\u001b[0m\n\u001b[1;32m   4309\u001b[0m                 \u001b[0mnew_axis\u001b[0m \u001b[0;34m=\u001b[0m \u001b[0maxis\u001b[0m\u001b[0;34m.\u001b[0m\u001b[0mdrop\u001b[0m\u001b[0;34m(\u001b[0m\u001b[0mlabels\u001b[0m\u001b[0;34m,\u001b[0m \u001b[0mlevel\u001b[0m\u001b[0;34m=\u001b[0m\u001b[0mlevel\u001b[0m\u001b[0;34m,\u001b[0m \u001b[0merrors\u001b[0m\u001b[0;34m=\u001b[0m\u001b[0merrors\u001b[0m\u001b[0;34m)\u001b[0m\u001b[0;34m\u001b[0m\u001b[0;34m\u001b[0m\u001b[0m\n\u001b[1;32m   4310\u001b[0m             \u001b[0;32melse\u001b[0m\u001b[0;34m:\u001b[0m\u001b[0;34m\u001b[0m\u001b[0;34m\u001b[0m\u001b[0m\n\u001b[0;32m-> 4311\u001b[0;31m                 \u001b[0mnew_axis\u001b[0m \u001b[0;34m=\u001b[0m \u001b[0maxis\u001b[0m\u001b[0;34m.\u001b[0m\u001b[0mdrop\u001b[0m\u001b[0;34m(\u001b[0m\u001b[0mlabels\u001b[0m\u001b[0;34m,\u001b[0m \u001b[0merrors\u001b[0m\u001b[0;34m=\u001b[0m\u001b[0merrors\u001b[0m\u001b[0;34m)\u001b[0m\u001b[0;34m\u001b[0m\u001b[0;34m\u001b[0m\u001b[0m\n\u001b[0m\u001b[1;32m   4312\u001b[0m             \u001b[0mindexer\u001b[0m \u001b[0;34m=\u001b[0m \u001b[0maxis\u001b[0m\u001b[0;34m.\u001b[0m\u001b[0mget_indexer\u001b[0m\u001b[0;34m(\u001b[0m\u001b[0mnew_axis\u001b[0m\u001b[0;34m)\u001b[0m\u001b[0;34m\u001b[0m\u001b[0;34m\u001b[0m\u001b[0m\n\u001b[1;32m   4313\u001b[0m \u001b[0;34m\u001b[0m\u001b[0m\n",
      "\u001b[0;32m/opt/anaconda3/lib/python3.9/site-packages/pandas/core/indexes/base.py\u001b[0m in \u001b[0;36mdrop\u001b[0;34m(self, labels, errors)\u001b[0m\n\u001b[1;32m   6659\u001b[0m         \u001b[0;32mif\u001b[0m \u001b[0mmask\u001b[0m\u001b[0;34m.\u001b[0m\u001b[0many\u001b[0m\u001b[0;34m(\u001b[0m\u001b[0;34m)\u001b[0m\u001b[0;34m:\u001b[0m\u001b[0;34m\u001b[0m\u001b[0;34m\u001b[0m\u001b[0m\n\u001b[1;32m   6660\u001b[0m             \u001b[0;32mif\u001b[0m \u001b[0merrors\u001b[0m \u001b[0;34m!=\u001b[0m \u001b[0;34m\"ignore\"\u001b[0m\u001b[0;34m:\u001b[0m\u001b[0;34m\u001b[0m\u001b[0;34m\u001b[0m\u001b[0m\n\u001b[0;32m-> 6661\u001b[0;31m                 \u001b[0;32mraise\u001b[0m \u001b[0mKeyError\u001b[0m\u001b[0;34m(\u001b[0m\u001b[0;34mf\"{list(labels[mask])} not found in axis\"\u001b[0m\u001b[0;34m)\u001b[0m\u001b[0;34m\u001b[0m\u001b[0;34m\u001b[0m\u001b[0m\n\u001b[0m\u001b[1;32m   6662\u001b[0m             \u001b[0mindexer\u001b[0m \u001b[0;34m=\u001b[0m \u001b[0mindexer\u001b[0m\u001b[0;34m[\u001b[0m\u001b[0;34m~\u001b[0m\u001b[0mmask\u001b[0m\u001b[0;34m]\u001b[0m\u001b[0;34m\u001b[0m\u001b[0;34m\u001b[0m\u001b[0m\n\u001b[1;32m   6663\u001b[0m         \u001b[0;32mreturn\u001b[0m \u001b[0mself\u001b[0m\u001b[0;34m.\u001b[0m\u001b[0mdelete\u001b[0m\u001b[0;34m(\u001b[0m\u001b[0mindexer\u001b[0m\u001b[0;34m)\u001b[0m\u001b[0;34m\u001b[0m\u001b[0;34m\u001b[0m\u001b[0m\n",
      "\u001b[0;31mKeyError\u001b[0m: \"['State_REQ'] not found in axis\""
     ]
    }
   ],
   "source": [
    "del_list = ['State_REQ']\n",
    "\n",
    "for file in os.listdir(os.path.join(folder, \"traffic\")):\n",
    "    if file.endswith('.csv'):\n",
    "        df = pd.read_csv(os.path.join(folder, \"traffic\", file))\n",
    "        df.drop(columns=del_list, inplace=True)\n",
    "        df.columns = df.columns.to_series().apply(lambda x: x.strip())\n",
    "        \n",
    "        output_file = os.path.join(destination_folder, \"cleaned_\"+file)\n",
    "        df.to_csv(output_file, encoding='UTF-8', index=False)"
   ]
  },
  {
   "cell_type": "code",
   "execution_count": 5,
   "metadata": {},
   "outputs": [
    {
     "name": "stdout",
     "output_type": "stream",
     "text": [
      "['Max', 'State_sSEfR', 'State_fR', 'State_ER', 'Dur', 'State_sSEfF', 'Flgs_ e', 'State_URH', 'SrcBytes', 'Sport', 'DstBytes', 'Flgs_ e d t', 'State_sER', 'State_ECO', 'State_sSEf', 'State_E', 'State_sSEfFR', 'LastTime', 'State_fFR', 'State_INT', 'State_sR', 'StdDev', 'Flgs_ e s', 'Rate', 'State_sS', 'Flgs_ e g', 'Flgs_ e d', 'SrcRate', 'Flgs_ e *', 'Flgs_ eUs', 'Proto_tcp', 'Seq', 'State_sSE', 'SrcPkts', 'State_sSER', 'Proto_icmp', 'Proto_arp', 'TotPkts', 'TotBytes', 'Dport', 'State_CON', 'DstPkts', 'State_s', 'Flgs_ eU', 'Proto_udp', 'StartTime', 'Mean', 'Min', 'State_URP', 'Sum', 'State_sSR', 'DstRate']\n"
     ]
    }
   ],
   "source": [
    "df1 = pd.read_csv(os.path.join(folder, \"traffic\", \"clean_label_traffic_20230113.csv\"))\n",
    "df2 = pd.read_csv(os.path.join(folder, \"traffic\", \"clean_label_traffic_20230207.csv\"))\n",
    "df3 = pd.read_csv(os.path.join(folder, \"traffic\", \"clean_label_traffic_20230310.csv\"))\n",
    "df4 = pd.read_csv(os.path.join(folder, \"traffic\", \"clean_label_traffic_20230420.csv\"))\n",
    "df5 = pd.read_csv(os.path.join(folder, \"traffic\", \"clean_label_traffic_20230420B.csv\"))\n",
    "df6 = pd.read_csv(os.path.join(folder, \"traffic\", \"clean_label_traffic_20230424.csv\"))\n",
    "df7 = pd.read_csv(os.path.join(folder, \"traffic\", \"clean_label_traffic_20230426.csv\"))\n",
    "\n",
    "common_features = list(set(df1.columns) & set(df2.columns) & set(df3.columns) & set(df4.columns) & set(df5.columns) & set(df6.columns) & set(df7.columns))\n",
    "\n",
    "print(common_features)\n",
    "\n",
    "\n"
   ]
  },
  {
   "cell_type": "code",
   "execution_count": 7,
   "metadata": {},
   "outputs": [
    {
     "name": "stdout",
     "output_type": "stream",
     "text": [
      "['Max', 'State_sSEfR', 'State_fR', 'State_ER', 'Dur', 'State_sSEfF', 'Flgs_ e', 'State_URH', 'SrcBytes', 'Sport', 'DstBytes', 'Flgs_ e d t', 'State_sER', 'State_ECO', 'State_sSEf', 'State_E', 'State_sSEfFR', 'LastTime', 'State_fFR', 'State_INT', 'State_sR', 'StdDev', 'Flgs_ e s', 'Rate', 'State_sS', 'Flgs_ e g', 'Flgs_ e d', 'SrcRate', 'Flgs_ e *', 'Flgs_ eUs', 'Proto_tcp', 'Seq', 'State_sSE', 'SrcPkts', 'State_sSER', 'Proto_icmp', 'Proto_arp', 'TotPkts', 'TotBytes', 'Dport', 'State_CON', 'DstPkts', 'State_s', 'Flgs_ eU', 'Proto_udp', 'StartTime', 'Mean', 'Min', 'State_URP', 'Sum', 'State_sSR', 'DstRate']\n"
     ]
    }
   ],
   "source": [
    "print(common_features)\n",
    "\n",
    "for file in os.listdir(os.path.join(folder, \"traffic\")):\n",
    "    if file.endswith('.csv'):\n",
    "        df = pd.read_csv(os.path.join(folder, \"traffic\", file))\n",
    "        df.columns = df.columns.to_series().apply(lambda x: x.strip())\n",
    "        df = df[common_features]\n",
    "        \n",
    "        output_file = os.path.join(destination_folder, \"final_\"+file)\n",
    "        df.to_csv(output_file, encoding='UTF-8', index=False)"
   ]
  }
 ],
 "metadata": {
  "kernelspec": {
   "display_name": "base",
   "language": "python",
   "name": "python3"
  },
  "language_info": {
   "codemirror_mode": {
    "name": "ipython",
    "version": 3
   },
   "file_extension": ".py",
   "mimetype": "text/x-python",
   "name": "python",
   "nbconvert_exporter": "python",
   "pygments_lexer": "ipython3",
   "version": "3.9.13"
  },
  "orig_nbformat": 4
 },
 "nbformat": 4,
 "nbformat_minor": 2
}
