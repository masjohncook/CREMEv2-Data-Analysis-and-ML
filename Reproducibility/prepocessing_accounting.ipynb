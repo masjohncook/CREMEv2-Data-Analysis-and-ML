{
 "cells": [
  {
   "cell_type": "code",
   "execution_count": 14,
   "metadata": {},
   "outputs": [],
   "source": [
    "import os\n",
    "import pandas as pd\n",
    "import numpy as np\n",
    "from matplotlib import pyplot as plt\n",
    "\n",
    "folder = os.path.join(\"/\", \"RanD\", \"CREMEv2_Result\", \"Reproducibility_Measurement\", \"Working\")\n",
    "destination_folder = os.path.join(\"/\", \"RanD\", \"CREMEv2_Result\", \"Reproducibility_Measurement\", \"Working\", \"accounting\", \"Final\")\n",
    "data_dir = [\"accounting\", \"syslog\", \"traffic\"]\n",
    "del_col = \"Label\"\n",
    "del_cols_list = [\"Label\", \"Label_lifecycle\"]\n"
   ]
  },
  {
   "cell_type": "code",
   "execution_count": 15,
   "metadata": {},
   "outputs": [
    {
     "name": "stdout",
     "output_type": "stream",
     "text": [
      "<class 'pandas.core.frame.DataFrame'>\n",
      "RangeIndex: 5234886 entries, 0 to 5234885\n",
      "Data columns (total 44 columns):\n",
      " #   Column     Dtype  \n",
      "---  ------     -----  \n",
      " 0   TIMESTAMP  float64\n",
      " 1   RDDSK      int64  \n",
      " 2   WRDSK      int64  \n",
      " 3   WCANCL     int64  \n",
      " 4   DSK        int64  \n",
      " 5   MINFLT     float64\n",
      " 6   MAJFLT     int64  \n",
      " 7   VSTEXT     int64  \n",
      " 8   VSIZE      float64\n",
      " 9   RSIZE      float64\n",
      " 10  VGROW      float64\n",
      " 11  RGROW      float64\n",
      " 12  MEM        int64  \n",
      " 13  TRUN       int64  \n",
      " 14  TSLPI      int64  \n",
      " 15  TSLPU      int64  \n",
      " 16  NICE       int64  \n",
      " 17  PRI        int64  \n",
      " 18  RTPR       int64  \n",
      " 19  CPUNR      int64  \n",
      " 20  CPU        int64  \n",
      " 21  POLI_-     int64  \n",
      " 22  POLI_fifo  int64  \n",
      " 23  POLI_norm  int64  \n",
      " 24  POLI_rr    int64  \n",
      " 25  ST_--      int64  \n",
      " 26  ST_-E      int64  \n",
      " 27  ST_-S      int64  \n",
      " 28  ST_N-      int64  \n",
      " 29  ST_NE      int64  \n",
      " 30  ST_NS      int64  \n",
      " 31  EXC_-      int64  \n",
      " 32  EXC_0      int64  \n",
      " 33  EXC_1      int64  \n",
      " 34  EXC_15     int64  \n",
      " 35  EXC_2      int64  \n",
      " 36  EXC_255    int64  \n",
      " 37  S_D        int64  \n",
      " 38  S_E        int64  \n",
      " 39  S_I        int64  \n",
      " 40  S_R        int64  \n",
      " 41  S_S        int64  \n",
      " 42  S_X        int64  \n",
      " 43  S_Z        int64  \n",
      "dtypes: float64(6), int64(38)\n",
      "memory usage: 1.7 GB\n"
     ]
    }
   ],
   "source": [
    "df1 = pd.read_csv(os.path.join(folder, \"accounting\", \"clean_label_accounting_20230207.csv\"))\n",
    "df1.info()"
   ]
  },
  {
   "cell_type": "code",
   "execution_count": 16,
   "metadata": {},
   "outputs": [],
   "source": [
    "\n",
    "for file in os.listdir(os.path.join(folder, \"accounting\")):\n",
    "    if file.endswith('.csv'):\n",
    "        df = pd.read_csv(os.path.join(folder, \"accounting\", file))\n",
    "        # df.drop(columns=del_list, inplace=True)\n",
    "        df.columns = df.columns.to_series().apply(lambda x: x.strip())\n",
    "        \n",
    "        output_file = os.path.join(destination_folder, \"cleaned_\"+file)\n",
    "        df.to_csv(output_file, encoding='UTF-8', index=False)"
   ]
  },
  {
   "cell_type": "code",
   "execution_count": 17,
   "metadata": {},
   "outputs": [
    {
     "name": "stdout",
     "output_type": "stream",
     "text": [
      "['EXC_-', 'POLI_fifo', 'RTPR', 'S_I', 'MEM', 'TSLPU', 'ST_--', 'EXC_2', 'NICE', 'WCANCL', 'EXC_255', 'ST_-E', 'WRDSK', 'ST_NE', 'EXC_0', 'TRUN', 'VGROW', 'CPUNR', 'MAJFLT', 'PRI', 'POLI_-', 'S_E', 'S_Z', 'MINFLT', 'TSLPI', 'RGROW', 'ST_-S', 'ST_N-', 'DSK', 'S_R', 'RSIZE', 'VSIZE', 'CPU', 'S_S', 'TIMESTAMP', 'POLI_norm', 'ST_NS', 'EXC_1', 'RDDSK', 'POLI_rr', 'S_D', 'VSTEXT']\n"
     ]
    }
   ],
   "source": [
    "df1 = pd.read_csv(os.path.join(folder, \"accounting\", \"clean_label_accounting_20230113.csv\"))\n",
    "df2 = pd.read_csv(os.path.join(folder, \"accounting\", \"clean_label_accounting_20230207.csv\"))\n",
    "df3 = pd.read_csv(os.path.join(folder, \"accounting\", \"clean_label_accounting_20230310.csv\"))\n",
    "df4 = pd.read_csv(os.path.join(folder, \"accounting\", \"clean_label_accounting_20230420.csv\"))\n",
    "df5 = pd.read_csv(os.path.join(folder, \"accounting\", \"clean_label_accounting_20230420B.csv\"))\n",
    "df6 = pd.read_csv(os.path.join(folder, \"accounting\", \"clean_label_accounting_20230424.csv\"))\n",
    "df7 = pd.read_csv(os.path.join(folder, \"traffic\", \"clean_label_traffic_20230426.csv\"))\n",
    "\n",
    "common_features = list(set(df1.columns) & set(df2.columns) & set(df3.columns) & set(df4.columns) & set(df5.columns))\n",
    "\n",
    "print(common_features)\n",
    "\n",
    "\n"
   ]
  },
  {
   "cell_type": "code",
   "execution_count": 18,
   "metadata": {},
   "outputs": [
    {
     "name": "stdout",
     "output_type": "stream",
     "text": [
      "['EXC_-', 'POLI_fifo', 'RTPR', 'S_I', 'MEM', 'TSLPU', 'ST_--', 'EXC_2', 'NICE', 'WCANCL', 'EXC_255', 'ST_-E', 'WRDSK', 'ST_NE', 'EXC_0', 'TRUN', 'VGROW', 'CPUNR', 'MAJFLT', 'PRI', 'POLI_-', 'S_E', 'S_Z', 'MINFLT', 'TSLPI', 'RGROW', 'ST_-S', 'ST_N-', 'DSK', 'S_R', 'RSIZE', 'VSIZE', 'CPU', 'S_S', 'TIMESTAMP', 'POLI_norm', 'ST_NS', 'EXC_1', 'RDDSK', 'POLI_rr', 'S_D', 'VSTEXT']\n"
     ]
    }
   ],
   "source": [
    "print(common_features)\n",
    "\n",
    "for file in os.listdir(os.path.join(folder, \"accounting\")):\n",
    "    if file.endswith('.csv'):\n",
    "        df = pd.read_csv(os.path.join(folder, \"accounting\", file))\n",
    "        df.columns = df.columns.to_series().apply(lambda x: x.strip())\n",
    "        df = df[common_features]\n",
    "        \n",
    "        output_file = os.path.join(destination_folder, \"final_\"+file)\n",
    "        df.to_csv(output_file, encoding='UTF-8', index=False)"
   ]
  }
 ],
 "metadata": {
  "kernelspec": {
   "display_name": "base",
   "language": "python",
   "name": "python3"
  },
  "language_info": {
   "codemirror_mode": {
    "name": "ipython",
    "version": 3
   },
   "file_extension": ".py",
   "mimetype": "text/x-python",
   "name": "python",
   "nbconvert_exporter": "python",
   "pygments_lexer": "ipython3",
   "version": "3.9.13"
  },
  "orig_nbformat": 4
 },
 "nbformat": 4,
 "nbformat_minor": 2
}
