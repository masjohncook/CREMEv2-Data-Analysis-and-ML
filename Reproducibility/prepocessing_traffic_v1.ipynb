{
 "cells": [
  {
   "cell_type": "code",
   "execution_count": 2,
   "metadata": {},
   "outputs": [],
   "source": [
    "import os\n",
    "import pandas as pd\n",
    "import numpy as np\n",
    "from matplotlib import pyplot as plt\n",
    "\n",
    "folder = os.path.join(\"/\", \"RanD\", \"CREMEv2_Result\", \"Reproducibility_Measurement\", \"Working\", \"V1\")\n",
    "destination_folder = os.path.join(\"/\", \"RanD\", \"CREMEv2_Result\", \"Reproducibility_Measurement\", \"Working\", \"V1\", \"Result\")\n",
    "del_col = \"Label\"\n"
   ]
  },
  {
   "cell_type": "code",
   "execution_count": 3,
   "metadata": {},
   "outputs": [],
   "source": [
    "df1 = pd.read_csv(os.path.join(folder, \"Original\", \"preprocess_label_traffic.csv\"))\n",
    "df2 = pd.read_csv(os.path.join(folder, \"Test2022\", \"label_traffic.csv\"))"
   ]
  },
  {
   "cell_type": "code",
   "execution_count": 4,
   "metadata": {},
   "outputs": [],
   "source": [
    "df1 = df1.drop(columns=del_col)\n",
    "df2 = df2.drop(columns=del_col)"
   ]
  },
  {
   "cell_type": "code",
   "execution_count": 5,
   "metadata": {},
   "outputs": [
    {
     "name": "stdout",
     "output_type": "stream",
     "text": [
      "['TotPkts', 'State_sSE', 'Proto_udt', 'StdDev', 'State_sSEfFR', 'Flgs_ e *', 'Proto_rtcp', 'Seq', 'State_sSER', 'DstPkts', 'State_sS', 'Flgs_ e g', 'DstBytes', 'Proto_icmp', 'State_sR', 'State_sSR', 'TotBytes', 'State_URP']\n"
     ]
    }
   ],
   "source": [
    "common_features = list(set(df1.columns) & set(df2.columns))\n",
    "\n",
    "print(common_features)\n",
    "\n",
    "\n"
   ]
  },
  {
   "cell_type": "code",
   "execution_count": 6,
   "metadata": {},
   "outputs": [
    {
     "name": "stdout",
     "output_type": "stream",
     "text": [
      "['TotPkts', 'State_sSE', 'Proto_udt', 'StdDev', 'State_sSEfFR', 'Flgs_ e *', 'Proto_rtcp', 'Seq', 'State_sSER', 'DstPkts', 'State_sS', 'Flgs_ e g', 'DstBytes', 'Proto_icmp', 'State_sR', 'State_sSR', 'TotBytes', 'State_URP']\n"
     ]
    }
   ],
   "source": [
    "print(common_features)\n",
    "\n",
    "df1.columns = df1.columns.to_series().apply(lambda x: x.strip())\n",
    "df1 = df1[common_features]\n",
    "output_file = os.path.join(destination_folder, \"final_label_traffic_original.csv\")\n",
    "df1.to_csv(output_file, encoding='UTF-8', index=False)\n",
    "\n",
    "\n",
    "df2.columns = df2.columns.to_series().apply(lambda x: x.strip())\n",
    "df2 = df1[common_features]\n",
    "output_file = os.path.join(destination_folder, \"final_label_traffic_test2022.csv\")\n",
    "df2.to_csv(output_file, encoding='UTF-8', index=False)\n",
    "\n",
    "        \n",
    "\n",
    "        "
   ]
  }
 ],
 "metadata": {
  "kernelspec": {
   "display_name": "base",
   "language": "python",
   "name": "python3"
  },
  "language_info": {
   "codemirror_mode": {
    "name": "ipython",
    "version": 3
   },
   "file_extension": ".py",
   "mimetype": "text/x-python",
   "name": "python",
   "nbconvert_exporter": "python",
   "pygments_lexer": "ipython3",
   "version": "3.10.9"
  },
  "orig_nbformat": 4
 },
 "nbformat": 4,
 "nbformat_minor": 2
}
