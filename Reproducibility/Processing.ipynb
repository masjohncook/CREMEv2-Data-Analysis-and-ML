{
 "cells": [
  {
   "attachments": {},
   "cell_type": "markdown",
   "metadata": {},
   "source": [
    "Load data"
   ]
  },
  {
   "cell_type": "code",
   "execution_count": 1,
   "metadata": {},
   "outputs": [],
   "source": [
    "import os\n",
    "import pandas as pd\n",
    "import numpy as np\n",
    "from matplotlib import pyplot as plt\n",
    "\n",
    "folder = os.path.join(\"/\", \"RanD\", \"CREMEv2_Result\", \"Reproducibility_Measurement\", \"Original\")\n",
    "destination_folder = os.path.join(\"/\", \"RanD\", \"CREMEv2_Result\", \"Reproducibility_Measurement\", \"Working\")\n",
    "data_dir = [\"accounting\", \"syslog\", \"traffic\"]\n",
    "del_col = \"Label\"\n",
    "del_cols_list = [\"Label\", \"Label_lifecycle\"]\n"
   ]
  },
  {
   "attachments": {},
   "cell_type": "markdown",
   "metadata": {},
   "source": [
    "Check label column"
   ]
  },
  {
   "cell_type": "code",
   "execution_count": 2,
   "metadata": {},
   "outputs": [
    {
     "name": "stdout",
     "output_type": "stream",
     "text": [
      "['StartTime', 'Sport', 'Dport', 'TotPkts', 'TotBytes', 'LastTime', 'Seq', 'Dur', 'Mean', 'StdDev', 'Sum', 'Min', 'Max', 'SrcPkts', 'DstPkts', 'SrcBytes', 'DstBytes', 'Rate', 'SrcRate', 'DstRate', 'Label', 'Label_lifecycle', 'Flgs_ e', 'Flgs_ e   t', 'Flgs_ e  S', 'Flgs_ e *', 'Flgs_ e d', 'Flgs_ e d t', 'Flgs_ e g', 'Flgs_ e s', 'Flgs_ eU', 'Flgs_ eUs', 'Proto_arp', 'Proto_icmp', 'Proto_tcp', 'Proto_udp', 'State_CON', 'State_E', 'State_ECO', 'State_ER', 'State_INT', 'State_REQ', 'State_URH', 'State_URP', 'State_fF', 'State_fFR', 'State_fR', 'State_s', 'State_sE', 'State_sER', 'State_sEf', 'State_sEfR', 'State_sR', 'State_sS', 'State_sSE', 'State_sSER', 'State_sSEf', 'State_sSEfF', 'State_sSEfFR', 'State_sSEfR', 'State_sSR']\n"
     ]
    }
   ],
   "source": [
    "df = pd.read_csv(os.path.join(folder, data_dir[2], \"label_traffic_20230420.csv\"))\n",
    "features = list(df.columns)\n",
    "print(features)"
   ]
  },
  {
   "attachments": {},
   "cell_type": "markdown",
   "metadata": {},
   "source": [
    "Clean and save"
   ]
  },
  {
   "cell_type": "code",
   "execution_count": 3,
   "metadata": {},
   "outputs": [
    {
     "name": "stdout",
     "output_type": "stream",
     "text": [
      "Process file :label_accounting_20230420B.csv in accounting\n",
      "Process file :label_accounting_20230207.csv in accounting\n",
      "Process file :label_accounting_20230502.csv in accounting\n",
      "Process file :label_accounting_20230310.csv in accounting\n",
      "Process file :label_accounting_20230113.csv in accounting\n",
      "Process file :label_accounting_20230426.csv in accounting\n",
      "Process file :label_accounting_20230420.csv in accounting\n",
      "Process file :label_accounting_20230424.csv in accounting\n",
      "Process file :label_syslog_20230420.csv in syslog\n",
      "Process file :label_syslog_20230420B.csv in syslog\n",
      "Process file :label_syslog_20230424.csv in syslog\n",
      "Process file :label_syslog_20230426.csv in syslog\n",
      "Process file :label_syslog_20230113.csv in syslog\n",
      "Process file :label_syslog_20230310.csv in syslog\n",
      "Process file :label_syslog_20230502.csv in syslog\n",
      "Process file :label_syslog_20230207.csv in syslog\n",
      "Process file :label_traffic_20230420B.csv in traffic\n",
      "Process file :label_traffic_20230207.csv in traffic\n",
      "Process file :label_traffic_20230113.csv in traffic\n",
      "Process file :label_traffic_20230420.csv in traffic\n",
      "Process file :label_traffic_20230424.csv in traffic\n",
      "Process file :label_traffic_20230426.csv in traffic\n",
      "Process file :label_traffic_20230310.csv in traffic\n",
      "Process file :label_traffic_20230502.csv in traffic\n"
     ]
    }
   ],
   "source": [
    "for i in data_dir:    \n",
    "    if i == \"syslog\":\n",
    "        lst = os.listdir(os.path.join(folder, i))\n",
    "        for names in lst:\n",
    "            filename = []\n",
    "            if names.startswith(\"label_\"):\n",
    "                filename.append(names)\n",
    "            for file in filename:\n",
    "                if file.endswith(\"_20230113.csv\"):\n",
    "                    print(\"Process file :\"+ names +\" in \"+ i)\n",
    "                    df = pd.read_csv(os.path.join(folder, i, file))\n",
    "                    df = df.drop(columns=del_col)\n",
    "        \n",
    "                    output_file = os.path.join(destination_folder, i, \"clean_\"+file)\n",
    "                    df.to_csv(output_file, encoding='UTF-8', index=False)\n",
    "                else:\n",
    "                    print(\"Process file :\"+ names +\" in \"+ i)\n",
    "                    df = pd.read_csv(os.path.join(folder, i, file))\n",
    "                    df = df.drop(columns=del_col)\n",
    "        \n",
    "                    output_file = os.path.join(destination_folder, i, \"clean_\"+file)\n",
    "                    df.to_csv(output_file, encoding='UTF-8', index=False)        \n",
    "    else:\n",
    "        lst = os.listdir(os.path.join(folder, i))\n",
    "        for names in lst:\n",
    "            filename = []\n",
    "            if names.endswith(\"_20230113.csv\"):\n",
    "                print(\"Process file :\"+ names +\" in \"+ i)\n",
    "                df = pd.read_csv(os.path.join(folder, i, names))\n",
    "                df = df.drop(columns=del_col)\n",
    "                \n",
    "                output_file = os.path.join(destination_folder, i, \"clean_\"+names)\n",
    "                df.to_csv(output_file, encoding='UTF-8', index=False)           \n",
    "            else:\n",
    "                print(\"Process file :\"+ names +\" in \"+ i)\n",
    "                df = pd.read_csv(os.path.join(folder, i, names))\n",
    "                df = df.drop(columns=del_cols_list)\n",
    "    \n",
    "                output_file = os.path.join(destination_folder, i, \"clean_\"+names)\n",
    "                df.to_csv(output_file, encoding='UTF-8', index=False)\n",
    "\n"
   ]
  },
  {
   "cell_type": "code",
   "execution_count": 4,
   "metadata": {},
   "outputs": [],
   "source": [
    "del df"
   ]
  }
 ],
 "metadata": {
  "kernelspec": {
   "display_name": "base",
   "language": "python",
   "name": "python3"
  },
  "language_info": {
   "codemirror_mode": {
    "name": "ipython",
    "version": 3
   },
   "file_extension": ".py",
   "mimetype": "text/x-python",
   "name": "python",
   "nbconvert_exporter": "python",
   "pygments_lexer": "ipython3",
   "version": "3.9.13"
  },
  "orig_nbformat": 4,
  "vscode": {
   "interpreter": {
    "hash": "40d3a090f54c6569ab1632332b64b2c03c39dcf918b08424e98f38b5ae0af88f"
   }
  }
 },
 "nbformat": 4,
 "nbformat_minor": 2
}
