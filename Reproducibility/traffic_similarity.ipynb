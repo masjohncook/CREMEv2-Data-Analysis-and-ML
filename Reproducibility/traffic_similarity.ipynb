{
 "cells": [
  {
   "cell_type": "code",
   "execution_count": 2,
   "metadata": {},
   "outputs": [
    {
     "name": "stdout",
     "output_type": "stream",
     "text": [
      "['final_clean_label_traffic_20230420.csv', 'final_clean_label_traffic_20230424.csv', 'final_clean_label_traffic_20230426.csv', 'final_clean_label_traffic_20230207.csv', 'final_clean_label_traffic_20230113.csv', 'final_clean_label_traffic_20230420B.csv', 'final_clean_label_traffic_20230310.csv']\n"
     ]
    }
   ],
   "source": [
    "\n",
    "from sklearn.metrics import jaccard_score\n",
    "import pandas as pd\n",
    "import numpy as np\n",
    "import os\n",
    "\n",
    "folder = os.path.join(\"/\", \"RanD\", \"CREMEv2_Result\", \"Reproducibility_Measurement\", \"Working\", \"traffic\", \"Final\")\n",
    "lst = os.listdir(folder)\n",
    "print(lst)\n",
    "\n",
    "del_cols_list = [\"StartTime\", \"LastTime\"]\n",
    "combinations = []\n",
    "\n",
    "\n",
    "\n",
    "ground_truth = pd.read_csv(os.path.join(folder, \"final_clean_label_traffic_20230310.csv\"))\n",
    "\n",
    "sec_1 = pd.read_csv(os.path.join(folder, \"final_clean_label_traffic_20230207.csv\")) # Normal\n",
    "sec_2 = pd.read_csv(os.path.join(folder, \"final_clean_label_traffic_20230424.csv\")) # 1 times \n",
    "sec_3 = pd.read_csv(os.path.join(folder, \"final_clean_label_traffic_20230426.csv\")) # 2 Times\n",
    "sec_4 = pd.read_csv(os.path.join(folder, \"final_clean_label_traffic_20230420.csv\")) # 3 times\n"
   ]
  },
  {
   "cell_type": "code",
   "execution_count": 3,
   "metadata": {},
   "outputs": [],
   "source": [
    "from sklearn.decomposition import PCA\n",
    "from sklearn.preprocessing import StandardScaler\n",
    "\n",
    "scaler = StandardScaler()\n",
    "\n",
    "pca = PCA(n_components=2)\n",
    "\n",
    "ground_truth_scaled = scaler.fit(ground_truth).transform(ground_truth)\n",
    "\n",
    "sec_1_scaled = scaler.fit(sec_1).transform(sec_1)\n",
    "sec_2_scaled = scaler.fit(sec_2).transform(sec_2)\n",
    "sec_3_scaled = scaler.fit(sec_3).transform(sec_3)\n",
    "sec_4_scaled = scaler.fit(sec_4).transform(sec_4)\n",
    "\n"
   ]
  },
  {
   "cell_type": "code",
   "execution_count": 4,
   "metadata": {},
   "outputs": [],
   "source": [
    "\n",
    "ground_truth_covarianceMatrix = np.cov(np.transpose(np.array(ground_truth_scaled)))\n",
    "\n",
    "sec_1_covarianceMatrix = np.cov(np.transpose(np.array(sec_1_scaled)))\n",
    "sec_2_covarianceMatrix = np.cov(np.transpose(np.array(sec_2_scaled)))\n",
    "sec_3_covarianceMatrix = np.cov(np.transpose(np.array(sec_3_scaled)))\n",
    "sec_4_covarianceMatrix = np.cov(np.transpose(np.array(sec_4_scaled)))\n",
    "\n",
    "pca_ground_truth = pca.fit(ground_truth_covarianceMatrix).transform(ground_truth_covarianceMatrix)\n",
    "\n",
    "pca_sec_1 = pca.fit(sec_1_covarianceMatrix).transform(sec_1_covarianceMatrix)\n",
    "pca_sec_2 = pca.fit(sec_2_covarianceMatrix).transform(sec_2_covarianceMatrix)\n",
    "pca_sec_3 = pca.fit(sec_3_covarianceMatrix).transform(sec_3_covarianceMatrix)\n",
    "pca_sec_4 = pca.fit(sec_4_covarianceMatrix).transform(sec_4_covarianceMatrix)"
   ]
  },
  {
   "cell_type": "code",
   "execution_count": 5,
   "metadata": {},
   "outputs": [
    {
     "name": "stderr",
     "output_type": "stream",
     "text": [
      "/tmp/ipykernel_3119098/1758673213.py:2: FutureWarning: The series.append method is deprecated and will be removed from pandas in a future version. Use pandas.concat instead.\n",
      "  df_pca_ground_truth_vertical = df_pca_ground_truth['comp1'].append(df_pca_ground_truth['comp2']).reset_index(drop=True)\n",
      "/tmp/ipykernel_3119098/1758673213.py:7: FutureWarning: The series.append method is deprecated and will be removed from pandas in a future version. Use pandas.concat instead.\n",
      "  df_pca_sec_1_vertical = df_pca_sec_1['comp1'].append(df_pca_sec_1['comp2']).reset_index(drop=True)\n",
      "/tmp/ipykernel_3119098/1758673213.py:10: FutureWarning: The series.append method is deprecated and will be removed from pandas in a future version. Use pandas.concat instead.\n",
      "  df_pca_sec_2_vertical = df_pca_sec_2['comp1'].append(df_pca_sec_2['comp2']).reset_index(drop=True)\n",
      "/tmp/ipykernel_3119098/1758673213.py:13: FutureWarning: The series.append method is deprecated and will be removed from pandas in a future version. Use pandas.concat instead.\n",
      "  df_pca_sec_3_vertical = df_pca_sec_3['comp1'].append(df_pca_sec_3['comp2']).reset_index(drop=True)\n",
      "/tmp/ipykernel_3119098/1758673213.py:16: FutureWarning: The series.append method is deprecated and will be removed from pandas in a future version. Use pandas.concat instead.\n",
      "  df_pca_sec_4_vertical = df_pca_sec_4['comp1'].append(df_pca_sec_4['comp2']).reset_index(drop=True)\n"
     ]
    }
   ],
   "source": [
    "df_pca_ground_truth = pd.DataFrame(pca_ground_truth, columns =['comp1','comp2'])\n",
    "df_pca_ground_truth_vertical = df_pca_ground_truth['comp1'].append(df_pca_ground_truth['comp2']).reset_index(drop=True)\n",
    "\n",
    "\n",
    "\n",
    "df_pca_sec_1 = pd.DataFrame(pca_sec_1, columns =['comp1','comp2'])\n",
    "df_pca_sec_1_vertical = df_pca_sec_1['comp1'].append(df_pca_sec_1['comp2']).reset_index(drop=True)\n",
    "\n",
    "df_pca_sec_2 = pd.DataFrame(pca_sec_2, columns =['comp1','comp2'])\n",
    "df_pca_sec_2_vertical = df_pca_sec_2['comp1'].append(df_pca_sec_2['comp2']).reset_index(drop=True)\n",
    "\n",
    "df_pca_sec_3 = pd.DataFrame(pca_sec_3, columns =['comp1','comp2'])\n",
    "df_pca_sec_3_vertical = df_pca_sec_3['comp1'].append(df_pca_sec_3['comp2']).reset_index(drop=True)\n",
    "\n",
    "df_pca_sec_4 = pd.DataFrame(pca_sec_4, columns =['comp1','comp2'])\n",
    "df_pca_sec_4_vertical = df_pca_sec_4['comp1'].append(df_pca_sec_4['comp2']).reset_index(drop=True)\n"
   ]
  },
  {
   "cell_type": "code",
   "execution_count": 6,
   "metadata": {},
   "outputs": [
    {
     "name": "stdout",
     "output_type": "stream",
     "text": [
      "correlation of the data is 0.9552104802789262\n"
     ]
    }
   ],
   "source": [
    "corr_gt_1 = np.corrcoef(df_pca_ground_truth_vertical, df_pca_sec_1_vertical)[0,1]\n",
    "\n",
    "print(\"correlation of the data is {}\".format(corr_gt_1))"
   ]
  },
  {
   "cell_type": "code",
   "execution_count": 7,
   "metadata": {},
   "outputs": [
    {
     "name": "stdout",
     "output_type": "stream",
     "text": [
      "correlation of the data is 0.9986900394175905\n"
     ]
    }
   ],
   "source": [
    "corr_gt_2 = np.corrcoef(df_pca_ground_truth_vertical, df_pca_sec_2_vertical)[0,1]\n",
    "\n",
    "print(\"correlation of the data is {}\".format(corr_gt_2))"
   ]
  },
  {
   "cell_type": "code",
   "execution_count": 8,
   "metadata": {},
   "outputs": [
    {
     "name": "stdout",
     "output_type": "stream",
     "text": [
      "correlation of the data is 0.992856214085262\n"
     ]
    }
   ],
   "source": [
    "corr_gt_3 = np.corrcoef(df_pca_ground_truth_vertical, df_pca_sec_3_vertical)[0,1]\n",
    "\n",
    "print(\"correlation of the data is {}\".format(corr_gt_3))"
   ]
  },
  {
   "cell_type": "code",
   "execution_count": 9,
   "metadata": {},
   "outputs": [
    {
     "name": "stdout",
     "output_type": "stream",
     "text": [
      "correlation of the data is 0.992558458209944\n"
     ]
    }
   ],
   "source": [
    "corr_gt_4 = np.corrcoef(df_pca_ground_truth_vertical, df_pca_sec_4_vertical)[0,1]\n",
    "\n",
    "print(\"correlation of the data is {}\".format(corr_gt_4))"
   ]
  },
  {
   "cell_type": "code",
   "execution_count": 10,
   "metadata": {},
   "outputs": [
    {
     "ename": "NameError",
     "evalue": "name 'df_pca_sec_5_vertical' is not defined",
     "output_type": "error",
     "traceback": [
      "\u001b[0;31m---------------------------------------------------------------------------\u001b[0m",
      "\u001b[0;31mNameError\u001b[0m                                 Traceback (most recent call last)",
      "\u001b[0;32m/tmp/ipykernel_3119098/1181305491.py\u001b[0m in \u001b[0;36m<module>\u001b[0;34m\u001b[0m\n\u001b[0;32m----> 1\u001b[0;31m \u001b[0mcorr_gt_5\u001b[0m \u001b[0;34m=\u001b[0m \u001b[0mnp\u001b[0m\u001b[0;34m.\u001b[0m\u001b[0mcorrcoef\u001b[0m\u001b[0;34m(\u001b[0m\u001b[0mdf_pca_ground_truth_vertical\u001b[0m\u001b[0;34m,\u001b[0m \u001b[0mdf_pca_sec_5_vertical\u001b[0m\u001b[0;34m)\u001b[0m\u001b[0;34m[\u001b[0m\u001b[0;36m0\u001b[0m\u001b[0;34m,\u001b[0m\u001b[0;36m1\u001b[0m\u001b[0;34m]\u001b[0m\u001b[0;34m\u001b[0m\u001b[0;34m\u001b[0m\u001b[0m\n\u001b[0m\u001b[1;32m      2\u001b[0m \u001b[0;34m\u001b[0m\u001b[0m\n\u001b[1;32m      3\u001b[0m \u001b[0mprint\u001b[0m\u001b[0;34m(\u001b[0m\u001b[0;34m\"correlation of the data is {}\"\u001b[0m\u001b[0;34m.\u001b[0m\u001b[0mformat\u001b[0m\u001b[0;34m(\u001b[0m\u001b[0mcorr_gt_5\u001b[0m\u001b[0;34m)\u001b[0m\u001b[0;34m)\u001b[0m\u001b[0;34m\u001b[0m\u001b[0;34m\u001b[0m\u001b[0m\n",
      "\u001b[0;31mNameError\u001b[0m: name 'df_pca_sec_5_vertical' is not defined"
     ]
    }
   ],
   "source": [
    "corr_gt_5 = np.corrcoef(df_pca_ground_truth_vertical, df_pca_sec_5_vertical)[0,1]\n",
    "\n",
    "print(\"correlation of the data is {}\".format(corr_gt_5))"
   ]
  },
  {
   "cell_type": "code",
   "execution_count": null,
   "metadata": {},
   "outputs": [
    {
     "ename": "NameError",
     "evalue": "name 'df_pca_ground_truth_vertical' is not defined",
     "output_type": "error",
     "traceback": [
      "\u001b[0;31m---------------------------------------------------------------------------\u001b[0m",
      "\u001b[0;31mNameError\u001b[0m                                 Traceback (most recent call last)",
      "\u001b[0;32m/tmp/ipykernel_3119098/1404200694.py\u001b[0m in \u001b[0;36m<module>\u001b[0;34m\u001b[0m\n\u001b[1;32m     19\u001b[0m \u001b[0;34m\u001b[0m\u001b[0m\n\u001b[1;32m     20\u001b[0m \u001b[0mfig\u001b[0m\u001b[0;34m,\u001b[0m \u001b[0max\u001b[0m \u001b[0;34m=\u001b[0m \u001b[0mplt\u001b[0m\u001b[0;34m.\u001b[0m\u001b[0msubplots\u001b[0m\u001b[0;34m(\u001b[0m\u001b[0mfigsize\u001b[0m\u001b[0;34m=\u001b[0m\u001b[0;34m(\u001b[0m\u001b[0;36m10\u001b[0m\u001b[0;34m,\u001b[0m \u001b[0;36m8\u001b[0m\u001b[0;34m)\u001b[0m\u001b[0;34m)\u001b[0m\u001b[0;34m\u001b[0m\u001b[0;34m\u001b[0m\u001b[0m\n\u001b[0;32m---> 21\u001b[0;31m \u001b[0msns\u001b[0m\u001b[0;34m.\u001b[0m\u001b[0mscatterplot\u001b[0m\u001b[0;34m(\u001b[0m\u001b[0mx\u001b[0m\u001b[0;34m=\u001b[0m\u001b[0mdf_pca_ground_truth_vertical\u001b[0m\u001b[0;34m,\u001b[0m \u001b[0my\u001b[0m\u001b[0;34m=\u001b[0m\u001b[0mdf_pca_sec_1_vertical\u001b[0m\u001b[0;34m,\u001b[0m \u001b[0mlabel\u001b[0m\u001b[0;34m=\u001b[0m\u001b[0;34m\"1st scenario\"\u001b[0m\u001b[0;34m,\u001b[0m \u001b[0mpalette\u001b[0m\u001b[0;34m=\u001b[0m\u001b[0mcolors\u001b[0m\u001b[0;34m)\u001b[0m\u001b[0;34m\u001b[0m\u001b[0;34m\u001b[0m\u001b[0m\n\u001b[0m\u001b[1;32m     22\u001b[0m \u001b[0msns\u001b[0m\u001b[0;34m.\u001b[0m\u001b[0mscatterplot\u001b[0m\u001b[0;34m(\u001b[0m\u001b[0mx\u001b[0m\u001b[0;34m=\u001b[0m\u001b[0mdf_pca_ground_truth_vertical\u001b[0m\u001b[0;34m,\u001b[0m \u001b[0my\u001b[0m\u001b[0;34m=\u001b[0m\u001b[0mdf_pca_sec_2_vertical\u001b[0m\u001b[0;34m,\u001b[0m \u001b[0mlabel\u001b[0m\u001b[0;34m=\u001b[0m\u001b[0;34m\"2nd scenario\"\u001b[0m\u001b[0;34m,\u001b[0m \u001b[0mpalette\u001b[0m\u001b[0;34m=\u001b[0m\u001b[0mcolors\u001b[0m\u001b[0;34m)\u001b[0m\u001b[0;34m\u001b[0m\u001b[0;34m\u001b[0m\u001b[0m\n\u001b[1;32m     23\u001b[0m \u001b[0msns\u001b[0m\u001b[0;34m.\u001b[0m\u001b[0mscatterplot\u001b[0m\u001b[0;34m(\u001b[0m\u001b[0mx\u001b[0m\u001b[0;34m=\u001b[0m\u001b[0mdf_pca_ground_truth_vertical\u001b[0m\u001b[0;34m,\u001b[0m \u001b[0my\u001b[0m\u001b[0;34m=\u001b[0m\u001b[0mdf_pca_sec_3_vertical\u001b[0m\u001b[0;34m,\u001b[0m \u001b[0mlabel\u001b[0m\u001b[0;34m=\u001b[0m\u001b[0;34m\"3rd scenario\"\u001b[0m\u001b[0;34m,\u001b[0m \u001b[0mpalette\u001b[0m\u001b[0;34m=\u001b[0m\u001b[0mcolors\u001b[0m\u001b[0;34m)\u001b[0m\u001b[0;34m\u001b[0m\u001b[0;34m\u001b[0m\u001b[0m\n",
      "\u001b[0;31mNameError\u001b[0m: name 'df_pca_ground_truth_vertical' is not defined"
     ]
    },
    {
     "data": {
      "image/png": "[encoded data removed]",
      "text/plain": [
       "<Figure size 1000x800 with 1 Axes>"
      ]
     },
     "metadata": {},
     "output_type": "display_data"
    }
   ],
   "source": [
    "import matplotlib.pyplot as plt\n",
    "from matplotlib.lines import Line2D\n",
    "import seaborn as sns\n",
    "\n",
    "colors = sns.set_palette(\"tab10\", n_colors=10)\n",
    "\n",
    "colors = {\n",
    "    'ruby':'#D8334A',\n",
    "    'grapefruit':'#ED5565',\n",
    "    'bittersweet':'#FC6E51',\n",
    "    'sunflower':'#FFCE54',\n",
    "    'straw':'#E8CE4D',\n",
    "    'grass':'#A0D468',\n",
    "    'mint':'#48CFAD',\n",
    "    'teal':'#A0CECB',\n",
    "    'aqua':'#4FC1E9',\n",
    "    'bluejeans':'#5D9CEC'\n",
    "}\n",
    "\n",
    "fig, ax = plt.subplots(figsize=(10, 8))\n",
    "sns.scatterplot(x=df_pca_ground_truth_vertical, y=df_pca_sec_1_vertical, label=\"1st scenario\", palette=colors)\n",
    "sns.scatterplot(x=df_pca_ground_truth_vertical, y=df_pca_sec_2_vertical, label=\"2nd scenario\", palette=colors)\n",
    "sns.scatterplot(x=df_pca_ground_truth_vertical, y=df_pca_sec_3_vertical, label=\"3rd scenario\", palette=colors)\n",
    "sns.scatterplot(x=df_pca_ground_truth_vertical, y=df_pca_sec_4_vertical, label=\"4th scenario\", palette=colors)\n",
    "# plt.title(f\"Pearson Correlation Coefficient Plot\", fontsize=14)\n",
    "\n",
    "# polynomial plot\n",
    "z_gt_1 = np.polyfit(df_pca_ground_truth_vertical, df_pca_sec_1_vertical, 1)\n",
    "p_gt_1 = np.poly1d(z_gt_1)\n",
    "\n",
    "z_gt_2 = np.polyfit(df_pca_ground_truth_vertical, df_pca_sec_2_vertical, 1)\n",
    "p_gt_2 = np.poly1d(z_gt_2)\n",
    "\n",
    "z_gt_3 = np.polyfit(df_pca_ground_truth_vertical, df_pca_sec_3_vertical, 1)\n",
    "p_gt_3 = np.poly1d(z_gt_3)\n",
    "\n",
    "z_gt_4 = np.polyfit(df_pca_ground_truth_vertical, df_pca_sec_4_vertical, 1)\n",
    "p_gt_4 = np.poly1d(z_gt_4)\n",
    "\n",
    "\n",
    "sns.lineplot(df_pca_ground_truth_vertical, p_gt_1(df_pca_ground_truth_vertical), linestyle='-', label='Polynomial of 1st Test Scenario', color='c')\n",
    "sns.lineplot(df_pca_ground_truth_vertical, p_gt_2(df_pca_ground_truth_vertical), linestyle='-', label='Polynomial of 2nd Test Scenario', color='m')\n",
    "sns.lineplot(df_pca_ground_truth_vertical, p_gt_3(df_pca_ground_truth_vertical), linestyle='-', label='Polynomial of 3rd Test Scenario', color='y')\n",
    "sns.lineplot(df_pca_ground_truth_vertical, p_gt_4(df_pca_ground_truth_vertical), linestyle='-', label='Polynomial of 4th Test Scenario', color='k')\n",
    "\n",
    "handles, labels = plt.gca().get_legend_handles_labels()\n",
    "\n",
    "# Line1 = Line2D([0], [0], color='r', label='Polynomial of 1st Test Scenario')\n",
    "# Line2 = Line2D([0], [0], color='g', label='Polynomial of 2nd Test Scenario')\n",
    "# Line3 = Line2D([0], [0], color='b', label='Polynomial of 3rd Test Scenario')\n",
    "# Line4 = Line2D([0], [0], color='k', label='Polynomial of 4th Test Scenario')\n",
    "\n",
    "Line5 = Line2D([0], [0], color='w', label=f'PCC 1st Test Scenario: {corr_gt_1:.4f}')\n",
    "Line6 = Line2D([0], [0], color='w', label=f'PCC 2nd Test Scenario: {corr_gt_2:.4f}')\n",
    "Line7 = Line2D([0], [0], color='w', label=f'PCC 3rd Test Scenario: {corr_gt_3:.4f}')\n",
    "Line8 = Line2D([0], [0], color='w', label=f'PCC 4th Test Scenario: {corr_gt_4:.4f}')\n",
    "\n",
    "# handles.extend([Line1, Line2, Line3, Line4, Line5, Line6, Line7, Line8])\n",
    "handles.extend([Line5, Line6, Line7, Line8])\n",
    "\n",
    "ax.legend(handles=handles, loc='lower right')\n",
    "plt.xlabel('Ground Truth PCA', fontsize=14)\n",
    "plt.ylabel('Test PCA', fontsize=14)\n",
    "\n",
    "\n",
    "plt.show()"
   ]
  }
 ],
 "metadata": {
  "kernelspec": {
   "display_name": "base",
   "language": "python",
   "name": "python3"
  },
  "language_info": {
   "codemirror_mode": {
    "name": "ipython",
    "version": 3
   },
   "file_extension": ".py",
   "mimetype": "text/x-python",
   "name": "python",
   "nbconvert_exporter": "python",
   "pygments_lexer": "ipython3",
   "version": "3.9.13"
  },
  "orig_nbformat": 4,
  "vscode": {
   "interpreter": {
    "hash": "40d3a090f54c6569ab1632332b64b2c03c39dcf918b08424e98f38b5ae0af88f"
   }
  }
 },
 "nbformat": 4,
 "nbformat_minor": 2
}
