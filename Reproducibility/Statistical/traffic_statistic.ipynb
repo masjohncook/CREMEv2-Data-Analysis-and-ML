{
 "cells": [
  {
   "attachments": {},
   "cell_type": "markdown",
   "metadata": {},
   "source": [
    "1. Variable definition"
   ]
  },
  {
   "cell_type": "code",
   "execution_count": 4,
   "metadata": {},
   "outputs": [],
   "source": [
    "import pandas as pd\n",
    "import numpy as np\n",
    "import os\n",
    "import matplotlib.pyplot as plt\n",
    "\n",
    "\n",
    "\n",
    "folder = os.path.join(\"/\", \"RanD\", \"CREMEv2_Result\", \"20230310\", \"logs_original\")\n",
    "\n",
    "\n",
    "data_dir = [\"accounting\", \n",
    "            \"syslog\"]\n",
    "\n",
    "lifecycles = {0:[1, 2, 3, 5, 9, 11, 12, 13],\n",
    "              1:[1, 2, 4, 6, 8, 14],\n",
    "              2:[1, 2, 4, 6, 7, 12, 15],\n",
    "              3:[1, 2, 4, 6, 8, 12, 16],\n",
    "              4:[1, 2, 4, 8, 10, 12, 17]\n",
    "              }\n",
    "\n",
    "\n"
   ]
  },
  {
   "cell_type": "code",
   "execution_count": null,
   "metadata": {},
   "outputs": [],
   "source": [
    "def countLabel(file_path, label_column, target_label):\n",
    "    df = pd.read.csv(file_path)\n",
    "    count = len(df[df[label_column] == target_label])\n",
    "    return count"
   ]
  },
  {
   "cell_type": "code",
   "execution_count": null,
   "metadata": {},
   "outputs": [],
   "source": [
    "label_column = 'Label'\n",
    "data = os.path.join(folder, \"label_accounting\", \"label_accounting.csv\")\n",
    "\n"
   ]
  },
  {
   "cell_type": "code",
   "execution_count": 6,
   "metadata": {},
   "outputs": [
    {
     "name": "stdout",
     "output_type": "stream",
     "text": [
      "<class 'pandas.core.frame.DataFrame'>\n",
      "RangeIndex: 4583180 entries, 0 to 4583179\n",
      "Data columns (total 46 columns):\n",
      " #   Column           Dtype  \n",
      "---  ------           -----  \n",
      " 0   TIMESTAMP        float64\n",
      " 1   RDDSK            int64  \n",
      " 2   WRDSK            int64  \n",
      " 3   WCANCL           int64  \n",
      " 4   DSK              int64  \n",
      " 5   MINFLT           float64\n",
      " 6   MAJFLT           int64  \n",
      " 7   VSTEXT           int64  \n",
      " 8   VSIZE            float64\n",
      " 9   RSIZE            float64\n",
      " 10  VGROW            float64\n",
      " 11  RGROW            float64\n",
      " 12  MEM              int64  \n",
      " 13  TRUN             int64  \n",
      " 14  TSLPI            int64  \n",
      " 15  TSLPU            int64  \n",
      " 16  NICE             int64  \n",
      " 17  PRI              int64  \n",
      " 18  RTPR             int64  \n",
      " 19  CPUNR            int64  \n",
      " 20  CPU              int64  \n",
      " 21  Label            int64  \n",
      " 22  Label_lifecycle  int64  \n",
      " 23  POLI_-           int64  \n",
      " 24  POLI_fifo        int64  \n",
      " 25  POLI_norm        int64  \n",
      " 26  POLI_rr          int64  \n",
      " 27  ST_--            int64  \n",
      " 28  ST_-E            int64  \n",
      " 29  ST_-S            int64  \n",
      " 30  ST_N-            int64  \n",
      " 31  ST_NE            int64  \n",
      " 32  ST_NS            int64  \n",
      " 33  EXC_-            int64  \n",
      " 34  EXC_0            int64  \n",
      " 35  EXC_1            int64  \n",
      " 36  EXC_15           int64  \n",
      " 37  EXC_2            int64  \n",
      " 38  EXC_255          int64  \n",
      " 39  S_D              int64  \n",
      " 40  S_E              int64  \n",
      " 41  S_I              int64  \n",
      " 42  S_R              int64  \n",
      " 43  S_S              int64  \n",
      " 44  S_X              int64  \n",
      " 45  S_Z              int64  \n",
      "dtypes: float64(6), int64(40)\n",
      "memory usage: 1.6 GB\n"
     ]
    }
   ],
   "source": [
    "def numberOfData(no_of_data):\n",
    "    data_num = np.arange(len(no_of_data))\n",
    "    bar_length = plt.bar(data_num, no_of_data)\n",
    "    \n",
    "    for item in bar_length:\n",
    "        height = item.get_height()\n",
    "        plt.text(\n",
    "            item.get_x()=item.get_width()/2.,\n",
    "            height,\n",
    "            '%d' % int(height),\n",
    "            ha = \"center\",\n",
    "            va = \"bottom\",\n",
    "            fontsize=10\n",
    "            )\n",
    "    labels.pop(0)\n",
    "    plt.xticks(class_num, labels)\n",
    "    plt.xlabel(\"Class\")\n",
    "    plt.ylabel(\"Number\")\n",
    "    plt.title(\"Preprocessed Host Statistics Data\")\n",
    "    # plt.title(\"Raw Host Statistics Data\")\n",
    "    plt.tight_layout()\n",
    "    plt.savefig(\"accounting.png\", dpi=400)\n",
    "    plt.show()\n"
   ]
  }
 ],
 "metadata": {
  "kernelspec": {
   "display_name": "base",
   "language": "python",
   "name": "python3"
  },
  "language_info": {
   "codemirror_mode": {
    "name": "ipython",
    "version": 3
   },
   "file_extension": ".py",
   "mimetype": "text/x-python",
   "name": "python",
   "nbconvert_exporter": "python",
   "pygments_lexer": "ipython3",
   "version": "3.10.9"
  },
  "orig_nbformat": 4
 },
 "nbformat": 4,
 "nbformat_minor": 2
}
