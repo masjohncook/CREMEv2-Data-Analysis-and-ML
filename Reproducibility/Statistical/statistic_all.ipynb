{
 "cells": [
  {
   "cell_type": "code",
   "execution_count": 1,
   "metadata": {},
   "outputs": [],
   "source": [
    "import pandas as pd\n",
    "import numpy as np\n",
    "import os\n",
    "import matplotlib.pyplot as plt\n",
    "\n",
    "\n",
    "folder = os.path.join(\"/\", \"RanD\", \"CREMEv2_Result\", \"20230310\", \"logs_working\")\n",
    "\n",
    "accounting_file = os.path.join(folder, \"label_accounting\", \"modified_label\", \"label_accounting_ready.csv\")\n",
    "syslog_file = os.path.join(folder, \"label_syslog\", \"origin_relabel_syslog_ready.csv\")\n",
    "traffic_file = os.path.join(folder, \"label_traffic\", \"label_traffic_ready.csv\")"
   ]
  },
  {
   "cell_type": "code",
   "execution_count": null,
   "metadata": {},
   "outputs": [],
   "source": [
    "for "
   ]
  }
 ],
 "metadata": {
  "kernelspec": {
   "display_name": "base",
   "language": "python",
   "name": "python3"
  },
  "language_info": {
   "codemirror_mode": {
    "name": "ipython",
    "version": 3
   },
   "file_extension": ".py",
   "mimetype": "text/x-python",
   "name": "python",
   "nbconvert_exporter": "python",
   "pygments_lexer": "ipython3",
   "version": "3.10.11"
  },
  "orig_nbformat": 4
 },
 "nbformat": 4,
 "nbformat_minor": 2
}
