{
 "cells": [
  {
   "attachments": {},
   "cell_type": "markdown",
   "metadata": {},
   "source": [
    "1. Variable definition"
   ]
  },
  {
   "cell_type": "code",
   "execution_count": 1,
   "metadata": {},
   "outputs": [],
   "source": [
    "import pandas as pd\n",
    "import numpy as np\n",
    "import os\n",
    "import matplotlib.pyplot as plt\n",
    "\n",
    "\n",
    "\n",
    "folder = os.path.join(\"/\", \"RanD\", \"CREMEv2_Result\", \"20230310\", \"logs_original\")\n",
    "\n",
    "data_dir = \"accounting\"\n",
    "\n",
    "lifecycles = {0:[0],\n",
    "              1:[1, 2, 3, 5, 9, 11, 12, 13],\n",
    "              2:[1, 2, 4, 6, 8, 14],\n",
    "              3:[1, 2, 4, 6, 7, 12, 15],\n",
    "              4:[1, 2, 4, 6, 8, 12, 16],\n",
    "              5:[1, 2, 4, 8, 10, 12, 17]\n",
    "              }\n",
    "file_path = os.path.join(folder, \"label_\"+data_dir, \"label_\"+data_dir+\".csv\")\n",
    "label_column_name = \"Label\""
   ]
  },
  {
   "cell_type": "code",
   "execution_count": 12,
   "metadata": {},
   "outputs": [],
   "source": [
    "df = pd.read_csv(file_path)"
   ]
  },
  {
   "cell_type": "code",
   "execution_count": 21,
   "metadata": {},
   "outputs": [
    {
     "name": "stdout",
     "output_type": "stream",
     "text": [
      "Lifecycle 0 and 0: 4393079\n",
      "Lifecycle 1 and 1: 33045\n",
      "Lifecycle 1 and 2: 0\n",
      "Lifecycle 1 and 3: 2\n",
      "Lifecycle 1 and 5: 1\n",
      "Lifecycle 1 and 9: 37\n",
      "Lifecycle 1 and 11: 12353\n",
      "Lifecycle 1 and 12: 31\n",
      "Lifecycle 1 and 13: 0\n",
      "Lifecycle 2 and 1: 36954\n",
      "Lifecycle 2 and 2: 33\n",
      "Lifecycle 2 and 4: 125\n",
      "Lifecycle 2 and 6: 97\n",
      "Lifecycle 2 and 8: 2\n",
      "Lifecycle 2 and 14: 2\n",
      "Lifecycle 3 and 1: 37205\n",
      "Lifecycle 3 and 2: 28\n",
      "Lifecycle 3 and 4: 91\n",
      "Lifecycle 3 and 6: 43\n",
      "Lifecycle 3 and 7: 1\n",
      "Lifecycle 3 and 12: 0\n",
      "Lifecycle 3 and 15: 0\n",
      "Lifecycle 4 and 1: 36821\n",
      "Lifecycle 4 and 2: 62\n",
      "Lifecycle 4 and 4: 193\n",
      "Lifecycle 4 and 6: 121\n",
      "Lifecycle 4 and 8: 126\n",
      "Lifecycle 4 and 12: 92\n",
      "Lifecycle 4 and 16: 156\n",
      "Lifecycle 5 and 1: 32200\n",
      "Lifecycle 5 and 2: 62\n",
      "Lifecycle 5 and 4: 124\n",
      "Lifecycle 5 and 8: 3\n",
      "Lifecycle 5 and 10: 91\n",
      "Lifecycle 5 and 12: 0\n",
      "Lifecycle 5 and 17: 0\n"
     ]
    }
   ],
   "source": [
    "\n",
    "# label_counts = {key: 0 for key in lifecycles.keys()}\n",
    "\n",
    "# print(label_counts)\n",
    "for key, lst in lifecycles.items():\n",
    "    for label in lst:\n",
    "        df1 = df[(df['Label_lifecycle'] == key) & (df[label_column_name] == label)]\n",
    "        count = len(df[(df['Label_lifecycle'] == key) & (df[label_column_name] == label)])\n",
    "        print(f\"Lifecycle {key} and {label}: {count}\")\n",
    "\n"
   ]
  }
 ],
 "metadata": {
  "kernelspec": {
   "display_name": "base",
   "language": "python",
   "name": "python3"
  },
  "language_info": {
   "codemirror_mode": {
    "name": "ipython",
    "version": 3
   },
   "file_extension": ".py",
   "mimetype": "text/x-python",
   "name": "python",
   "nbconvert_exporter": "python",
   "pygments_lexer": "ipython3",
   "version": "3.10.11"
  },
  "orig_nbformat": 4
 },
 "nbformat": 4,
 "nbformat_minor": 2
}
