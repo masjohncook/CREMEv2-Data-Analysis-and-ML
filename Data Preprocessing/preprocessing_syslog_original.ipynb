{
 "cells": [
  {
   "attachments": {},
   "cell_type": "markdown",
   "metadata": {},
   "source": [
    "01. Initializations"
   ]
  },
  {
   "cell_type": "code",
   "execution_count": 1,
   "metadata": {},
   "outputs": [],
   "source": [
    "import pandas as pd\n",
    "import sys\n",
    "import json\n",
    "from nfstream import NFStreamer\n",
    "import os\n",
    "import datetime\n",
    "\n",
    "\n",
    "root_folder = os.path.join(\"/\", \"RanD\", \"CREMEv2_Result\", \"20230310\", \"logs_working\")\n",
    "scenario = [\"mirai\", \"disk_wipe\", \"ransomware\", \"resource_hijacking\", \"end_point_dos\"]\n",
    "scenario_folder = [\"01_mirai\", \"02_disk_wipe\", \"03_ransomware\", \"04_resource_hijacking\", \"05_end_point_dos\"]\n",
    "syslog_folder = \"syslog\"\n",
    "label_folder = \"label_syslog\"\n",
    "filename = \"dataset_generation.log\"\n",
    "label = {'mirai': [1, 2, 3, 5, 9, 11, 12, 13],\n",
    "         'disk_wipe': [1, 2, 4, 6, 8, 14],\n",
    "         'ransomware': [1, 2, 4, 6, 7, 12, 15],\n",
    "         'resource_hijacking': [1, 2, 4, 6, 8, 12, 16],\n",
    "         'end_point_dos': [1, 2, 4, 8, 10, 12, 17]\n",
    "         }\n",
    "\n",
    "ips = {\"controller\": [\"192.168.56.111\"],\n",
    "       \"data-logger\": [\"192.168.56.121\"],\n",
    "       \"attacker\": [\"192.168.56.131\"],\n",
    "       \"non-vulnerable\": [\"192.168.56.141\", \"192.168.56.142\"],\n",
    "       \"vulnerable\": [\"192.168.56.151\"],\n",
    "       \"malicious\": [\"192.168.56.161\"],\n",
    "       \"benign\": [\"192.168.56.171\"],\n",
    "       \"target\": [\"192.168.56.181\"]\n",
    "       }"
   ]
  },
  {
   "attachments": {},
   "cell_type": "markdown",
   "metadata": {},
   "source": [
    "2. Repairing the label"
   ]
  },
  {
   "cell_type": "code",
   "execution_count": 2,
   "metadata": {},
   "outputs": [
    {
     "name": "stderr",
     "output_type": "stream",
     "text": [
      "/tmp/ipykernel_802176/2613811198.py:5: SettingWithCopyWarning: \n",
      "A value is trying to be set on a copy of a slice from a DataFrame\n",
      "\n",
      "See the caveats in the documentation: https://pandas.pydata.org/pandas-docs/stable/user_guide/indexing.html#returning-a-view-versus-a-copy\n",
      "  df.Label[df.HostName==\"192.168.56.171\"] = 0\n",
      "/tmp/ipykernel_802176/2613811198.py:6: SettingWithCopyWarning: \n",
      "A value is trying to be set on a copy of a slice from a DataFrame\n",
      "\n",
      "See the caveats in the documentation: https://pandas.pydata.org/pandas-docs/stable/user_guide/indexing.html#returning-a-view-versus-a-copy\n",
      "  df.Label_lifecycle[df.HostName==\"192.168.56.171\"] = 0\n"
     ]
    }
   ],
   "source": [
    "df = pd.read_csv(os.path.join(root_folder, label_folder, \"original_label_syslog.csv\"))\n",
    "\n",
    "result_abs_path = os.path.join(root_folder, label_folder, \"modified_label\")\n",
    "# print(ips[\"benign\"][0])\n",
    "df.Label[df.HostName==\"192.168.56.171\"] = 0\n",
    "df.Label_lifecycle[df.HostName==\"192.168.56.171\"] = 0\n",
    "# print(df)\n",
    "\n",
    "if not os.path.exists(result_abs_path):\n",
    "    os.makedirs(result_abs_path)\n",
    "df.to_csv(os.path.join(result_abs_path, \"original_relabel_syslog.csv\"), index=False)"
   ]
  }
 ],
 "metadata": {
  "kernelspec": {
   "display_name": "base",
   "language": "python",
   "name": "python3"
  },
  "language_info": {
   "codemirror_mode": {
    "name": "ipython",
    "version": 3
   },
   "file_extension": ".py",
   "mimetype": "text/x-python",
   "name": "python",
   "nbconvert_exporter": "python",
   "pygments_lexer": "ipython3",
   "version": "3.9.13"
  },
  "orig_nbformat": 4
 },
 "nbformat": 4,
 "nbformat_minor": 2
}
