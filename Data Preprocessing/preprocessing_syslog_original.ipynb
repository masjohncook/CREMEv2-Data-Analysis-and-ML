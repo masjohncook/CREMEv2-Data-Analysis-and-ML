{
 "cells": [
  {
   "attachments": {},
   "cell_type": "markdown",
   "metadata": {},
   "source": [
    "01. Initializations"
   ]
  },
  {
   "cell_type": "code",
   "execution_count": 7,
   "metadata": {},
   "outputs": [],
   "source": [
    "import pandas as pd\n",
    "import sys\n",
    "import json\n",
    "import os\n",
    "import datetime\n",
    "\n",
    "\n",
    "root_folder = '../CREME_dataset'\n",
    "scenario = [\"mirai\", \"disk_wipe\", \"ransomware\", \"resource_hijacking\", \"end_point_dos\"]\n",
    "scenario_folder = [\"01_mirai\", \"02_disk_wipe\", \"03_ransomware\", \"04_resource_hijacking\", \"05_end_point_dos\"]\n",
    "filename = \"dataset_generation.log\"\n",
    "label = {'mirai': [1, 2, 3, 5, 9, 11, 12, 13],\n",
    "         'disk_wipe': [1, 2, 4, 6, 8, 14],\n",
    "         'ransomware': [1, 2, 4, 6, 7, 12, 15],\n",
    "         'resource_hijacking': [1, 2, 4, 6, 8, 12, 16],\n",
    "         'end_point_dos': [1, 2, 4, 8, 10, 12, 17]\n",
    "         }\n",
    "\n",
    "ips = {\"controller\": [\"192.168.56.111\"],\n",
    "       \"data-logger\": [\"192.168.56.121\"],\n",
    "       \"attacker\": [\"192.168.56.131\"],\n",
    "       \"non-vulnerable\": [\"192.168.56.141\", \"192.168.56.142\"],\n",
    "       \"vulnerable\": [\"192.168.56.151\"],\n",
    "       \"malicious\": [\"192.168.56.161\"],\n",
    "       \"benign\": [\"192.168.56.171\"],\n",
    "       \"target\": [\"192.168.56.181\"]\n",
    "       }"
   ]
  },
  {
   "cell_type": "markdown",
   "metadata": {},
   "source": [
    "Test"
   ]
  },
  {
   "cell_type": "code",
   "execution_count": 5,
   "metadata": {},
   "outputs": [
    {
     "name": "stdout",
     "output_type": "stream",
     "text": [
      "<class 'pandas.core.frame.DataFrame'>\n",
      "RangeIndex: 235962 entries, 0 to 235961\n",
      "Data columns (total 14 columns):\n",
      " #   Column           Non-Null Count   Dtype  \n",
      "---  ------           --------------   -----  \n",
      " 0   Time             235962 non-null  object \n",
      " 1   HostName         235962 non-null  object \n",
      " 2   Component        209025 non-null  object \n",
      " 3   PID_or_IP        235913 non-null  object \n",
      " 4   Content          235962 non-null  object \n",
      " 5   EventId          235962 non-null  object \n",
      " 6   EventTemplate    235962 non-null  object \n",
      " 7   ParameterList    235962 non-null  object \n",
      " 8   Timestamp        235962 non-null  float64\n",
      " 9   Label            235962 non-null  int64  \n",
      " 10  Tactic           235962 non-null  object \n",
      " 11  Technique        235962 non-null  object \n",
      " 12  SubTechnique     235962 non-null  object \n",
      " 13  Label_lifecycle  235962 non-null  int64  \n",
      "dtypes: float64(1), int64(2), object(11)\n",
      "memory usage: 25.2+ MB\n"
     ]
    },
    {
     "data": {
      "text/plain": [
       "\"GET <*> <*> 200 <*> \"-\" <*>                                                                                                                                                            0.248349\n",
       "localhost (<*>[<*>]) - FTP session <*>                                                                                                                                                  0.145227\n",
       "connect from unknown[<*>]                                                                                                                                                               0.123270\n",
       "disconnect from unknown[<*>]                                                                                                                                                            0.123270\n",
       "lost connection after <*> from unknown[<*>]                                                                                                                                             0.123215\n",
       "localhost (<*>[<*>]) - USER <*> Login successful.                                                                                                                                       0.072474\n",
       "SSL_accept error from unknown[<*>]: <*>                                                                                                                                                 0.054521\n",
       "warning: TLS library problem: error:14094410:SSL routines:SSL3_READ_BYTES:sslv3 alert handshake failure:s3_pkt.c:1278:SSL alert number 40:                                              0.054437\n",
       "\"GET /chat/read_log.php HTTP/1.1\" 404 <*> \"about:blank\" \"Node.js (linux; U; rv:v4.9.1) AppleWebKit/537.36 (KHTML, like Gecko)\"                                                          0.029314\n",
       "doit: getaddrinfo: Name or service not known                                                                                                                                            0.009040\n",
       "connect from <*> (<*>)                                                                                                                                                                  0.009040\n",
       "Connection closed by <*> [preauth]                                                                                                                                                      0.001763\n",
       "Failed password for root from <*> port <*> ssh2                                                                                                                                         0.001678\n",
       "pam_unix(sshd:auth): authentication failure; logname= uid=0 euid=0 tty=ssh ruser= rhost=<*> user=root                                                                                   0.001678\n",
       "\"POST /chat/post.php HTTP/1.1\" 404 <*> \"about:blank\" \"Node.js (linux; U; rv:v4.9.1) AppleWebKit/537.36 (KHTML, like Gecko)\"                                                             0.000487\n",
       "SSL_accept error from unknown[<*>]: lost connection                                                                                                                                     0.000326\n",
       "\"OPTIONS / HTTP/1.1\" 200 180 \"-\" \"Mozilla/5.0 (compatible; Nmap Scripting Engine; <*>                                                                                                   0.000216\n",
       "\"GET <*> HTTP/1.1\" <*> <*> \"-\" \"Mozilla/5.0 (compatible; Nmap Scripting Engine; https://nmap.org/book/nse.html)\"                                                                        0.000170\n",
       "statistics: max connection <*> <*> for <*> at Mar 6 <*>                                                                                                                                 0.000153\n",
       "doit: getnameinfo: Success                                                                                                                                                              0.000153\n",
       "pam_nologin(login:auth): cannot determine username                                                                                                                                      0.000119\n",
       "pam_unix(samba:session): session closed for user nobody                                                                                                                                 0.000106\n",
       "pam_unix(cron:session): session opened for user root by (uid=0)                                                                                                                         0.000106\n",
       "pam_unix(cron:session): session closed for user root                                                                                                                                    0.000106\n",
       "warning: TLS library problem: <*> <*> <*>                                                                                                                                               0.000085\n",
       "(root) CMD ( cd / && run-parts --report /etc/cron.hourly)                                                                                                                               0.000064\n",
       "\"PROPFIND / HTTP/1.1\" 405 533 \"-\" \"Mozilla/5.0 (compatible; Nmap Scripting Engine; https://nmap.org/book/nse.html)\"                                                                     0.000064\n",
       "localhost (<*>[<*>]) - USER ftp: no such user found from <*> [<*>] to <*>:21                                                                                                            0.000042\n",
       "fatal: no hostkey alg [preauth]                                                                                                                                                         0.000042\n",
       "Protocol major versions differ for <*>: SSH-2.0-OpenSSH_6.6.1p1 Ubuntu-2ubuntu2.13 vs. <*>                                                                                              0.000042\n",
       "(root) CMD ( [ -x /usr/lib/php5/maxlifetime ] && [ -x /usr/lib/php5/sessionclean ] && [ -d /var/lib/php5 ] && /usr/lib/php5/sessionclean /var/lib/php5 $(/usr/lib/php5/maxlifetime))    0.000042\n",
       "\"POST <*> HTTP/1.1\" <*> <*> \"-\" \"Mozilla/5.0 (compatible; Nmap Scripting Engine; https://nmap.org/book/nse.html)\"                                                                       0.000042\n",
       "Accepted password for root from <*> port <*> ssh2                                                                                                                                       0.000038\n",
       "pam_unix(sshd:session): session opened for user root by (uid=0)                                                                                                                         0.000038\n",
       "statistics: max cache size <*> at Mar 6 <*>                                                                                                                                             0.000030\n",
       "warning: unknown[<*>]: SASL NTLM authentication failed: Invalid authentication mechanism                                                                                                0.000025\n",
       "Did not receive identification string from <*>                                                                                                                                          0.000021\n",
       "<*>: closeFlag: Stage 1                                                                                                                                                                 0.000021\n",
       "Invalid method in request <*> / HTTP/1.1                                                                                                                                                0.000021\n",
       "<*>: openFlag: Stage 1                                                                                                                                                                  0.000021\n",
       "SSL_accept error from unknown[<*>]: Connection reset by peer                                                                                                                            0.000021\n",
       "main Q:Reg: worker thread <*> terminated, now 1 active worker threads <*> try https://www.rsyslog.com/e/2439 ]                                                                          0.000017\n",
       "pam_unix(sshd:session): session closed for user root                                                                                                                                    0.000013\n",
       "Received disconnect from <*>: 11: disconnected by user                                                                                                                                  0.000013\n",
       "warning: non-SMTP command from unknown[<*>]: <*>                                                                                                                                        0.000013\n",
       "[ <*> TCP: TCP: Possible SYN flooding on port 6697. Sending cookies. Check SNMP counters.                                                                                               0.000008\n",
       "<*> messages lost due to rate-limiting (500 allowed within 5 seconds)                                                                                                                   0.000008\n",
       "enp0s3: DHCPv6 address fd36:97d8:258c::3c0/128 timeout preferred 43200 valid 43200                                                                                                      0.000008\n",
       "org.codehaus.plexus.redback.struts2.interceptor.ForceAdminUserInterceptor - Admin user found. No need to configure admin user.                                                          0.000008\n",
       "\"NIIZ / HTTP/1.1\" 501 496 \"-\" \"Mozilla/5.0 (compatible; Nmap Scripting Engine; https://nmap.org/book/nse.html)\"                                                                         0.000004\n",
       "New session 14 of user root.                                                                                                                                                            0.000004\n",
       "Started Session 14 of user root.                                                                                                                                                        0.000004\n",
       "\"WKSZ / HTTP/1.1\" 501 496 \"-\" \"Mozilla/5.0 (compatible; Nmap Scripting Engine; https://nmap.org/book/nse.html)\"                                                                         0.000004\n",
       "\"KDUN / HTTP/1.1\" 501 496 \"-\" \"Mozilla/5.0 (compatible; Nmap Scripting Engine; https://nmap.org/book/nse.html)\"                                                                         0.000004\n",
       "[20033.027511] IPv6: enp0s3: IPv6 duplicate address fd36:97d8:258c::3c0 used by <*>:4a:62:8a detected!                                                                                  0.000004\n",
       "\"CLUR / HTTP/1.1\" 501 496 \"-\" \"Mozilla/5.0 (compatible; Nmap Scripting Engine; https://nmap.org/book/nse.html)\"                                                                         0.000004\n",
       "\"FHWL / HTTP/1.1\" 501 496 \"-\" \"Mozilla/5.0 (compatible; Nmap Scripting Engine; https://nmap.org/book/nse.html)\"                                                                         0.000004\n",
       "Name: EventTemplate, dtype: float64"
      ]
     },
     "execution_count": 5,
     "metadata": {},
     "output_type": "execute_result"
    }
   ],
   "source": [
    "df = pd.read_csv(os.path.join(root_folder, \"original_label_syslog.csv\"))#26940\n",
    "# df = df[df.HostName==\"192.168.56.171\"]\n",
    "# df = df[df.PID_or_IP.notnull()]\n",
    "# df = df[~df.PID_or_IP.str.contains('^localhost\\] [^\\[\\]]+\\[[0-9]+$')]\n",
    "df.info()\n",
    "df['EventTemplate'].value_counts(normalize=True)"
   ]
  },
  {
   "attachments": {},
   "cell_type": "markdown",
   "metadata": {},
   "source": [
    "2. Repairing the label"
   ]
  },
  {
   "cell_type": "code",
   "execution_count": 118,
   "metadata": {},
   "outputs": [
    {
     "name": "stderr",
     "output_type": "stream",
     "text": [
      "/var/folders/hg/c084_sjj0_1dhg3qjvswf_mh0000gn/T/ipykernel_9457/717144884.py:17: SettingWithCopyWarning: \n",
      "A value is trying to be set on a copy of a slice from a DataFrame\n",
      "\n",
      "See the caveats in the documentation: https://pandas.pydata.org/pandas-docs/stable/user_guide/indexing.html#returning-a-view-versus-a-copy\n",
      "  df.Label[df.HostName==\"192.168.56.171\"] = 0\n",
      "/var/folders/hg/c084_sjj0_1dhg3qjvswf_mh0000gn/T/ipykernel_9457/717144884.py:18: SettingWithCopyWarning: \n",
      "A value is trying to be set on a copy of a slice from a DataFrame\n",
      "\n",
      "See the caveats in the documentation: https://pandas.pydata.org/pandas-docs/stable/user_guide/indexing.html#returning-a-view-versus-a-copy\n",
      "  df.Label_lifecycle[df.HostName==\"192.168.56.171\"] = 0\n"
     ]
    }
   ],
   "source": [
    "df = pd.read_csv(os.path.join(root_folder, \"original_label_syslog.csv\"))\n",
    "del_list = ['Tactic', 'Technique', 'SubTechnique']\n",
    "result_abs_path = os.path.join(root_folder, \"modify\")\n",
    "# print(ips[\"benign\"][0])\n",
    "\n",
    "tmp_df = df[df.HostName==\"192.168.56.171\"]\n",
    "tmp_df = tmp_df[tmp_df.PID_or_IP.notnull()]\n",
    "tmp_df = tmp_df[tmp_df.PID_or_IP.str.contains('^localhost\\] [^\\[\\]]+\\[[0-9]+$')]\n",
    "tmp_df.Component = tmp_df.PID_or_IP.str.extract('^localhost\\] ([^\\[\\]]+)\\[[0-9]+$')\n",
    "tmp_df.PID_or_IP = tmp_df.PID_or_IP.str.extract('^localhost\\] [^\\[\\]]+\\[([0-9]+)$')\n",
    "\n",
    "df.drop(df[df['HostName']==\"192.168.56.171\"].index, inplace=True)\n",
    "df = pd.concat([df, tmp_df])\n",
    "\n",
    "df.drop(df[df.Component.str.contains('apache-error')].index, inplace=True)\n",
    "\n",
    "df.Label[df.HostName==\"192.168.56.171\"] = 0\n",
    "df.Label_lifecycle[df.HostName==\"192.168.56.171\"] = 0\n",
    "df['HostName'] = df['HostName'].replace('192.168.56.171', 'benign-server')\n",
    "# print(df)\n",
    "df = df.drop(columns=del_list)\n",
    "\n",
    "if not os.path.exists(result_abs_path):\n",
    "    os.makedirs(result_abs_path)\n",
    "df.to_csv(os.path.join(result_abs_path, \"original_relabel_syslog.csv\"), index=False)"
   ]
  },
  {
   "cell_type": "code",
   "execution_count": 19,
   "metadata": {},
   "outputs": [],
   "source": [
    "col_list = ['HostName', 'EventTemplate', 'EventTemplate2', 'Timestamp', 'Label', 'Label_lifecycle', 'PID_or_IP', 'Component']\n",
    "one_hot_col_list = ['EventTemplate', 'EventTemplate2']\n",
    "result_abs_path = os.path.join(root_folder, \"modify\")\n",
    "\n",
    "df = pd.read_csv(os.path.join(result_abs_path, \"NLP_label_syslog.csv\"), usecols=col_list)\n",
    "labels = df['Label'].unique()\n",
    "\n",
    "df = pd.get_dummies(df, columns=one_hot_col_list)\n",
    "\n",
    "if not os.path.exists(result_abs_path):\n",
    "    os.makedirs(result_abs_path)\n",
    "df.to_csv(os.path.join(result_abs_path, \"relabel_syslog.csv\"), index=False)"
   ]
  },
  {
   "cell_type": "code",
   "execution_count": 20,
   "metadata": {},
   "outputs": [
    {
     "name": "stderr",
     "output_type": "stream",
     "text": [
      "/var/folders/hg/c084_sjj0_1dhg3qjvswf_mh0000gn/T/ipykernel_38144/1154463523.py:1: DtypeWarning: Columns (2) have mixed types. Specify dtype option on import or set low_memory=False.\n",
      "  df = pd.read_csv(os.path.join(result_abs_path, \"relabel_syslog.csv\"))\n"
     ]
    },
    {
     "data": {
      "text/html": [
       "<div>\n",
       "<style scoped>\n",
       "    .dataframe tbody tr th:only-of-type {\n",
       "        vertical-align: middle;\n",
       "    }\n",
       "\n",
       "    .dataframe tbody tr th {\n",
       "        vertical-align: top;\n",
       "    }\n",
       "\n",
       "    .dataframe thead th {\n",
       "        text-align: right;\n",
       "    }\n",
       "</style>\n",
       "<table border=\"1\" class=\"dataframe\">\n",
       "  <thead>\n",
       "    <tr style=\"text-align: right;\">\n",
       "      <th></th>\n",
       "      <th>HostName</th>\n",
       "      <th>Component</th>\n",
       "      <th>PID_or_IP</th>\n",
       "      <th>Timestamp</th>\n",
       "      <th>Label</th>\n",
       "      <th>Label_lifecycle</th>\n",
       "      <th>EventTemplate_\"GET / HTTP/1.0\" 200 34990 \"-\" \"-\"</th>\n",
       "      <th>EventTemplate_\"GET / HTTP/1.1\" 200 34990 \"-\" \"Mozilla/5.0 (compatible; Nmap Scripting Engine; https://nmap.org/book/nse.html)\"</th>\n",
       "      <th>EventTemplate_\"GET /.git/HEAD HTTP/1.1\" 404 465 \"-\" \"Mozilla/5.0 (compatible; Nmap Scripting Engine; https://nmap.org/book/nse.html)\"</th>\n",
       "      <th>EventTemplate_\"GET /HNAP1 HTTP/1.1\" 404 461 \"-\" \"Mozilla/5.0 (compatible; Nmap Scripting Engine; https://nmap.org/book/nse.html)\"</th>\n",
       "      <th>...</th>\n",
       "      <th>EventTemplate_warning: TLS library problem: error:14076102:SSL routines:SSL23_GET_CLIENT_HELLO:unsupported protocol:s23_srvr.c:557:</th>\n",
       "      <th>EventTemplate_warning: TLS library problem: error:14094410:SSL routines:SSL3_READ_BYTES:sslv3 alert handshake failure:s3_pkt.c:1278:SSL alert number 40:</th>\n",
       "      <th>EventTemplate_warning: non-SMTP command from unknown[&lt;*&gt;]: yg:????</th>\n",
       "      <th>EventTemplate_warning: non-SMTP command from unknown[&lt;*&gt;]: {:?????????S????0???I</th>\n",
       "      <th>EventTemplate_warning: unknown[&lt;*&gt;]: SASL NTLM authentication failed: Invalid authentication mechanism</th>\n",
       "      <th>EventTemplate2_0</th>\n",
       "      <th>EventTemplate2_1</th>\n",
       "      <th>EventTemplate2_2</th>\n",
       "      <th>EventTemplate2_3</th>\n",
       "      <th>EventTemplate2_4</th>\n",
       "    </tr>\n",
       "  </thead>\n",
       "  <tbody>\n",
       "  </tbody>\n",
       "</table>\n",
       "<p>0 rows × 76 columns</p>\n",
       "</div>"
      ],
      "text/plain": [
       "Empty DataFrame\n",
       "Columns: [HostName, Component, PID_or_IP, Timestamp, Label, Label_lifecycle, EventTemplate_\"GET / HTTP/1.0\" 200 34990 \"-\" \"-\", EventTemplate_\"GET / HTTP/1.1\" 200 34990 \"-\" \"Mozilla/5.0 (compatible; Nmap Scripting Engine; https://nmap.org/book/nse.html)\", EventTemplate_\"GET /.git/HEAD HTTP/1.1\" 404 465 \"-\" \"Mozilla/5.0 (compatible; Nmap Scripting Engine; https://nmap.org/book/nse.html)\", EventTemplate_\"GET /HNAP1 HTTP/1.1\" 404 461 \"-\" \"Mozilla/5.0 (compatible; Nmap Scripting Engine; https://nmap.org/book/nse.html)\", EventTemplate_\"GET /about.html HTTP/1.1\" 200 3527 \"-\" \"python-requests/2.16.0\", EventTemplate_\"GET /assets/img/favicon.ico HTTP/1.1\" 200 1413 \"-\" \"Mozilla/5.0 (compatible; Nmap Scripting Engine; https://nmap.org/book/nse.html)\", EventTemplate_\"GET /blog.html HTTP/1.1\" 200 4170 \"-\" \"python-requests/2.16.0\", EventTemplate_\"GET /chat/read_log.php HTTP/1.1\" 404 505 \"about:blank\" \"Node.js (linux; U; rv:v4.9.1) AppleWebKit/537.36 (KHTML, like Gecko)\", EventTemplate_\"GET /courses.html HTTP/1.1\" 200 3242 \"-\" \"python-requests/2.16.0\", EventTemplate_\"GET /elements.html HTTP/1.1\" 200 6913 \"-\" \"python-requests/2.16.0\", EventTemplate_\"GET /evox/about HTTP/1.1\" 404 466 \"-\" \"Mozilla/5.0 (compatible; Nmap Scripting Engine; https://nmap.org/book/nse.html)\", EventTemplate_\"GET /gallery.html HTTP/1.1\" 200 2942 \"-\" \"python-requests/2.16.0\", EventTemplate_\"GET /nmaplowercheck1678097419 HTTP/1.1\" 404 480 \"-\" \"Mozilla/5.0 (compatible; Nmap Scripting Engine; https://nmap.org/book/nse.html)\", EventTemplate_\"GET /pricing.html HTTP/1.1\" 200 3161 \"-\" \"python-requests/2.16.0\", EventTemplate_\"GET /robots.txt HTTP/1.1\" 404 466 \"-\" \"Mozilla/5.0 (compatible; Nmap Scripting Engine; https://nmap.org/book/nse.html)\", EventTemplate_\"KDUN / HTTP/1.1\" 501 496 \"-\" \"Mozilla/5.0 (compatible; Nmap Scripting Engine; https://nmap.org/book/nse.html)\", EventTemplate_\"OPTIONS / HTTP/1.1\" 200 180 \"-\" \"Mozilla/5.0 (compatible; Nmap Scripting Engine; https://nmap.org/book/nse.html)\"], EventTemplate_\"POST / HTTP/1.1\" 200 34990 \"-\" \"Mozilla/5.0 (compatible; Nmap Scripting Engine; https://nmap.org/book/nse.html)\", EventTemplate_\"POST /chat/post.php HTTP/1.1\" 404 500 \"about:blank\" \"Node.js (linux; U; rv:v4.9.1) AppleWebKit/537.36 (KHTML, like Gecko)\", EventTemplate_\"POST /sdk HTTP/1.1\" 404 459 \"-\" \"Mozilla/5.0 (compatible; Nmap Scripting Engine; https://nmap.org/book/nse.html)\", EventTemplate_(root) CMD (   cd / && run-parts --report /etc/cron.hourly), EventTemplate_(root) CMD (  [ -x /usr/lib/php5/maxlifetime ] && [ -x /usr/lib/php5/sessionclean ] && [ -d /var/lib/php5 ] && /usr/lib/php5/sessionclean /var/lib/php5 $(/usr/lib/php5/maxlifetime)), EventTemplate_<*>: closeFlag: Stage 1, EventTemplate_<*>: openFlag: Stage 1, EventTemplate_Connection closed by <*> [preauth], EventTemplate_Did not receive identification string from <*>, EventTemplate_Failed password for root from <*> port <*> ssh2, EventTemplate_New session 14 of user root., EventTemplate_Protocol major versions differ for <*>: SSH-2.0-OpenSSH_6.6.1p1 Ubuntu-2ubuntu2.13 vs. SSH-1.5-Nmap-SSH1-Hostkey, EventTemplate_Received disconnect from <*>: 11: disconnected by user, EventTemplate_SSL_accept error from unknown[<*>]: 0, EventTemplate_SSL_accept error from unknown[<*>]: Connection reset by peer, EventTemplate_Started Session 14 of user root., EventTemplate_[  770.884484] TCP: TCP: Possible SYN flooding on port <*>. Sending cookies.  Check SNMP counters., EventTemplate_[20033.027511] IPv6: enp0s3: IPv6 duplicate address fd36:97d8:258c::3c0 used by 08:00:27:4a:62:8a detected!, EventTemplate_connect from <*> (<*>), EventTemplate_connect from unknown[<*>], EventTemplate_disconnect from unknown[<*>], EventTemplate_doit: getaddrinfo: Name or service not known, EventTemplate_doit: getnameinfo: Success, EventTemplate_enp0s3: DHCPv6 address fd36:97d8:258c::3c0/128 timeout preferred 43200 valid 43200, EventTemplate_fatal: no hostkey alg [preauth], EventTemplate_localhost (<*>[<*>]) - FTP session opened., EventTemplate_localhost (<*>[<*>]) - USER ftp: no such user found from <*> [<*>] to <*>:21, EventTemplate_localhost (<*>[<*>]) - USER vulnerable-machine: Login successful., EventTemplate_lost connection after STARTTLS from unknown[<*>], EventTemplate_lost connection after UNKNOWN from unknown[<*>], EventTemplate_main Q:Reg: worker thread c32570 terminated, now 1 active worker threads [v8.2208.0 try https://www.rsyslog.com/e/2439 ], EventTemplate_org.codehaus.plexus.redback.struts2.interceptor.ForceAdminUserInterceptor  - Admin user found. No need to configure admin user., EventTemplate_pam_nologin(login:auth): cannot determine username, EventTemplate_pam_unix(cron:session): session closed for user root, EventTemplate_pam_unix(samba:session): session closed for user nobody, EventTemplate_pam_unix(sshd:auth): authentication failure; logname= uid=0 euid=0 tty=ssh ruser= rhost=<*>  user=root, EventTemplate_pam_unix(sshd:session): session closed for user root, EventTemplate_pam_unix(sshd:session): session opened for user root by (uid=0), EventTemplate_statistics: max cache size 4 at Mar  6 19:07:16, EventTemplate_statistics: max connection count 3 for (submission:<*>) at Mar  6 16:55:33, EventTemplate_statistics: max connection count 4 for (smtp:<*>) at Mar  6 18:10:54, EventTemplate_statistics: max connection rate 30/60s for (submission:<*>) at Mar  6 17:02:54, EventTemplate_statistics: max connection rate 375/60s for (smtp:<*>) at Mar  6 16:55:34, EventTemplate_warning: TLS library problem: error:14076102:SSL routines:SSL23_GET_CLIENT_HELLO:unsupported protocol:s23_srvr.c:557:, EventTemplate_warning: TLS library problem: error:14094410:SSL routines:SSL3_READ_BYTES:sslv3 alert handshake failure:s3_pkt.c:1278:SSL alert number 40:, EventTemplate_warning: non-SMTP command from unknown[<*>]: yg:????, EventTemplate_warning: non-SMTP command from unknown[<*>]: {:?????????S????0???I, EventTemplate_warning: unknown[<*>]: SASL NTLM authentication failed: Invalid authentication mechanism, EventTemplate2_0, EventTemplate2_1, EventTemplate2_2, EventTemplate2_3, EventTemplate2_4]\n",
       "Index: []\n",
       "\n",
       "[0 rows x 76 columns]"
      ]
     },
     "execution_count": 20,
     "metadata": {},
     "output_type": "execute_result"
    }
   ],
   "source": [
    "df = pd.read_csv(os.path.join(result_abs_path, \"relabel_syslog.csv\"))\n",
    "# df = df[df.Component.str.contains('apache-error')]\n",
    "df = df[df.HostName.isnull()]\n",
    "# df = df[df.PID_or_IP.str.contains('^[0-9]+$')]\n",
    "df.head(n=100)\n",
    "# df.describe()\n",
    "# df.PID_or_IP.unique()"
   ]
  }
 ],
 "metadata": {
  "kernelspec": {
   "display_name": "base",
   "language": "python",
   "name": "python3"
  },
  "language_info": {
   "codemirror_mode": {
    "name": "ipython",
    "version": 3
   },
   "file_extension": ".py",
   "mimetype": "text/x-python",
   "name": "python",
   "nbconvert_exporter": "python",
   "pygments_lexer": "ipython3",
   "version": "3.11.5"
  },
  "orig_nbformat": 4
 },
 "nbformat": 4,
 "nbformat_minor": 2
}
