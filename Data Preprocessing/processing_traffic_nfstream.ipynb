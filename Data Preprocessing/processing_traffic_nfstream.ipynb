{
 "cells": [
  {
   "attachments": {},
   "cell_type": "markdown",
   "metadata": {},
   "source": [
    "1. Import and define"
   ]
  },
  {
   "cell_type": "code",
   "execution_count": 2,
   "metadata": {},
   "outputs": [],
   "source": [
    "import pandas as pd\n",
    "import sys\n",
    "import json\n",
    "from nfstream import NFStreamer\n",
    "import os\n",
    "import datetime\n",
    "\n",
    "\n",
    "root_folder = os.path.join(\"/\", \"RanD\", \"CREMEv2_Result\", \"20230207\", \"logs\")\n",
    "scenario = [\"mirai\", \"disk_wipe\", \"ransomware\", \"resource_hijacking\", \"end_point_dos\"]\n",
    "scenario_folder = [\"01_mirai\", \"02_disk_wipe\", \"03_ransomware\", \"04_resource_hijacking\", \"05_end_point_dos\"]\n",
    "traffic_folder = \"traffic\"\n",
    "label_folder = \"label_traffic\"\n",
    "filename = \"traffic.pcap\"\n",
    "label = {'mirai': [1, 2, 3, 5, 9, 11, 12, 13],\n",
    "         'disk_wipe': [1, 2, 4, 6, 8, 14],\n",
    "         'ransomware': [1, 2, 4, 6, 7, 12, 15],\n",
    "         'resource_hijacking': [1, 2, 4, 6, 8, 12, 16],\n",
    "         'end_point_dos': [1, 2, 4, 8, 10, 12, 17]\n",
    "         }\n",
    "\n",
    "ips = {\"controller\": [\"192.168.56.111\"],\n",
    "       \"data-logger\": [\"192.168.56.121\"],\n",
    "       \"attacker\": [\"192.168.56.131\"],\n",
    "       \"non-vulnerable\": [\"192.168.56.141\", \"192.168.56.142\"],\n",
    "       \"vulnerable\": [\"192.168.56.151\"],\n",
    "       \"malicious\": [\"192.168.56.161\"],\n",
    "       \"benign\": [\"192.168.56.171\"],\n",
    "       \"target\": [\"192.168.56.181\"]\n",
    "       }"
   ]
  },
  {
   "attachments": {},
   "cell_type": "markdown",
   "metadata": {},
   "source": [
    "2. Extract each scenario into dataset"
   ]
  },
  {
   "cell_type": "code",
   "execution_count": 20,
   "metadata": {},
   "outputs": [
    {
     "name": "stdout",
     "output_type": "stream",
     "text": [
      "Processing the mirai on /RanD/CREMEv2_Result/20230207/logs/01_mirai/traffic/traffic.pcap to /RanD/CREMEv2_Result/20230207/logs/label_traffic/nfstream/extract_traffic_mirai_nfstream.csv\n",
      "==================================================================\n",
      "271098\n",
      "Processing the disk_wipe on /RanD/CREMEv2_Result/20230207/logs/02_disk_wipe/traffic/traffic.pcap to /RanD/CREMEv2_Result/20230207/logs/label_traffic/nfstream/extract_traffic_disk_wipe_nfstream.csv\n",
      "==================================================================\n",
      "196906\n",
      "Processing the ransomware on /RanD/CREMEv2_Result/20230207/logs/03_ransomware/traffic/traffic.pcap to /RanD/CREMEv2_Result/20230207/logs/label_traffic/nfstream/extract_traffic_ransomware_nfstream.csv\n",
      "==================================================================\n",
      "240643\n",
      "Processing the resource_hijacking on /RanD/CREMEv2_Result/20230207/logs/04_resource_hijacking/traffic/traffic.pcap to /RanD/CREMEv2_Result/20230207/logs/label_traffic/nfstream/extract_traffic_resource_hijacking_nfstream.csv\n",
      "==================================================================\n",
      "237974\n",
      "Processing the end_point_dos on /RanD/CREMEv2_Result/20230207/logs/05_end_point_dos/traffic/traffic.pcap to /RanD/CREMEv2_Result/20230207/logs/label_traffic/nfstream/extract_traffic_end_point_dos_nfstream.csv\n",
      "==================================================================\n",
      "211394\n"
     ]
    }
   ],
   "source": [
    "\n",
    "try:\n",
    "    for n in range(len(scenario)):\n",
    "        path = os.path.join(root_folder, scenario_folder[n], traffic_folder, filename)\n",
    "        final_filename = \"extract_traffic_{}_nfstream.csv\".format(scenario[n])\n",
    "        final_filepath = os.path.join(root_folder, label_folder, \"nfstream\", final_filename)\n",
    "        print(\"Processing the \"+scenario[n]+\" on \"+path + \" to \" + final_filepath)\n",
    "        flows_count = NFStreamer(source=path,\n",
    "                                 n_dissections=0,\n",
    "                                 statistical_analysis=True).to_csv(path=final_filepath,\n",
    "                                                                   columns_to_anonymize=(),\n",
    "                                                                   flows_per_file=0,\n",
    "                                                                   rotate_files=0)\n",
    "        print(\"==================================================================\")\n",
    "        print(flows_count)\n",
    "\n",
    "except Exception as e:\n",
    "    print(e)"
   ]
  },
  {
   "attachments": {},
   "cell_type": "markdown",
   "metadata": {},
   "source": [
    "3. Labeling"
   ]
  },
  {
   "cell_type": "code",
   "execution_count": 8,
   "metadata": {},
   "outputs": [
    {
     "name": "stdout",
     "output_type": "stream",
     "text": [
      "========================================================================================\n",
      "/RanD/CREMEv2_Result/20230207/logs/label_traffic/nfstream/extract_traffic_mirai_nfstream.csv\n",
      "[['Reconnaissance', 'Active Scanning', 'Scanning IP Blocks', 1675414494.0, 1675414913.0, ['192.168.56.132'], ['192.168.56.181'], ['192.168.56.171', '192.168.56.161', '192.168.56.151', '192.168.56.141', '192.168.56.142'], ['benign-server', 'vulnerable-machine', 'non-vulnerable-machine-1', 'non-vulnerable-machine-2'], ['target-server'], ['kworker'], [], 1], ['Initial Access', 'Exploit Public-Facing Application', 'Exploit Public-Facing Application', 1675414923.0, 1675414936.0, ['192.168.56.132'], ['192.168.56.181'], ['192.168.56.171', '192.168.56.161', '192.168.56.151', '192.168.56.141', '192.168.56.142'], ['benign-server', 'vulnerable-machine', 'non-vulnerable-machine-1', 'non-vulnerable-machine-2'], ['target-server'], ['kworker'], [], 2], ['Execution', 'Command and Scripting Interpreter', 'Unix Shell', 1675414937.0, 1675414939.0, ['192.168.56.161'], ['192.168.56.151'], ['192.168.56.141', '192.168.56.142', '192.168.56.181', '192.168.56.171'], ['non-vulnerable-machine-1', 'non-vulnerable-machine-2', 'target-server', 'benign-server'], ['vulnerable-machine'], ['kworker'], [], 3], ['Persistence', 'External Remote Services', 'External Remote Services', 1675414938.0, 1675414939.0, ['192.168.56.161'], ['192.168.56.151'], ['192.168.56.141', '192.168.56.142', '192.168.56.181', '192.168.56.171'], ['non-vulnerable-machine-1', 'non-vulnerable-machine-2', 'target-server', 'benign-server'], ['vulnerable-machine'], ['kworker'], [], 5], ['Defense Evasion', 'Debugger Evasion', 'Debugger Evasion', 1675414938.0, 1675414949.0, ['192.168.56.161'], ['192.168.56.151'], ['192.168.56.141', '192.168.56.142', '192.168.56.181', '192.168.56.171'], ['non-vulnerable-machine-1', 'non-vulnerable-machine-2', 'target-server', 'benign-server'], ['vulnerable-machine'], ['kworker'], [], 9], ['Discovery', 'Network Service Scanning', 'Network Service Scanning', 1675414948.0, 1675415551.0, ['192.168.56.161'], ['192.168.56.151'], ['192.168.56.141', '192.168.56.142', '192.168.56.181', '192.168.56.171'], ['non-vulnerable-machine-1', 'non-vulnerable-machine-2', 'target-server', 'benign-server'], ['vulnerable-machine'], ['kworker'], [], 11], ['Command and Control', 'Ingress Tool Transfer', 'Ingress Tool Transfer', 1675415550.0, 1675415552.0, ['192.168.56.132'], ['192.168.56.151'], ['192.168.56.141', '192.168.56.142', '192.168.56.181', '192.168.56.171'], ['non-vulnerable-machine-1', 'non-vulnerable-machine-2', 'target-server', 'benign-server'], ['vulnerable-machine'], ['kworker'], [], 12], ['Impact', 'Network Denial of Service', 'Direct Network Flood', 1675415551.0, 1675416163.0, ['192.168.56.151'], ['192.168.56.181'], ['192.168.56.141', '192.168.56.142', '192.168.56.171'], ['non-vulnerable-machine-1', 'non-vulnerable-machine-2', 'benign-server'], ['vulnerable-machine', 'target-server'], ['kworker'], [], 13]]\n",
      "1675414494.0\n",
      "1675416163.0\n"
     ]
    }
   ],
   "source": [
    "print(\"========================================================================================\")\n",
    "filename = os.path.join(root_folder, label_folder, \"nfstream\", \"extract_traffic_mirai_nfstream.csv\") \n",
    "print(filename)\n",
    "\n",
    "labeling_abs_file = os.path.join(root_folder, \"01_mirai\", \"labeling_file_path.txt\")\n",
    "labeling_list = None\n",
    "with open(labeling_abs_file, \"r\") as fp:\n",
    "    labeling_list = json.load(fp)\n",
    "    \n",
    "print(labeling_list)\n",
    "\n",
    "result_abs_path = os.path.join(root_folder, label_folder, \"nfstream\", \"labeled\")\n",
    "result_file_name = \"label_traffic_mirai_nfstream.csv\"\n",
    "\n",
    "# filter: start <-> end\n",
    "start = labeling_list[0][3]\n",
    "print(start)\n",
    "end = labeling_list[-1][4]\n",
    "print(end)\n",
    "\n",
    "df = pd.read_csv(filename)\n",
    "\n",
    "df.head()\n",
    "# convert the timetstamps to 10 digits\n",
    "df[\"bidirectional_first_seen_ms\"] = df['bidirectional_first_seen_ms'].apply(lambda x: (int(x)/1000))\n",
    "df = df[(df['bidirectional_first_seen_ms'] >= start) & (df['bidirectional_first_seen_ms'] <= end)]\n",
    "df.head()\n",
    "\n",
    "df.reset_index(drop=True)\n",
    "\n",
    "if not os.path.exists(result_abs_path):\n",
    "    os.makedirs(result_abs_path)\n",
    "df.to_csv(os.path.join(result_abs_path, result_file_name), index=False)"
   ]
  },
  {
   "cell_type": "code",
   "execution_count": 1,
   "metadata": {},
   "outputs": [
    {
     "ename": "NameError",
     "evalue": "name 'scenario' is not defined",
     "output_type": "error",
     "traceback": [
      "\u001b[0;31m---------------------------------------------------------------------------\u001b[0m",
      "\u001b[0;31mNameError\u001b[0m                                 Traceback (most recent call last)",
      "\u001b[0;32m/tmp/ipykernel_1347782/3545029028.py\u001b[0m in \u001b[0;36m<module>\u001b[0;34m\u001b[0m\n\u001b[0;32m----> 1\u001b[0;31m \u001b[0;32mfor\u001b[0m \u001b[0mi\u001b[0m \u001b[0;32min\u001b[0m \u001b[0mrange\u001b[0m\u001b[0;34m(\u001b[0m\u001b[0mlen\u001b[0m\u001b[0;34m(\u001b[0m\u001b[0mscenario\u001b[0m\u001b[0;34m)\u001b[0m\u001b[0;34m)\u001b[0m\u001b[0;34m:\u001b[0m\u001b[0;34m\u001b[0m\u001b[0;34m\u001b[0m\u001b[0m\n\u001b[0m\u001b[1;32m      2\u001b[0m     \u001b[0mprint\u001b[0m\u001b[0;34m(\u001b[0m\u001b[0;34m\"========================================================================================\"\u001b[0m\u001b[0;34m)\u001b[0m\u001b[0;34m\u001b[0m\u001b[0;34m\u001b[0m\u001b[0m\n\u001b[1;32m      3\u001b[0m     \u001b[0mfilename\u001b[0m \u001b[0;34m=\u001b[0m \u001b[0mos\u001b[0m\u001b[0;34m.\u001b[0m\u001b[0mpath\u001b[0m\u001b[0;34m.\u001b[0m\u001b[0mjoin\u001b[0m\u001b[0;34m(\u001b[0m\u001b[0mroot_folder\u001b[0m\u001b[0;34m,\u001b[0m \u001b[0mlabel_folder\u001b[0m\u001b[0;34m,\u001b[0m \u001b[0;34m\"nfstream\"\u001b[0m\u001b[0;34m,\u001b[0m \u001b[0;34m\"extract_traffic_{}_nfstream.csv\"\u001b[0m\u001b[0;34m.\u001b[0m\u001b[0mformat\u001b[0m\u001b[0;34m(\u001b[0m\u001b[0mscenario\u001b[0m\u001b[0;34m[\u001b[0m\u001b[0mi\u001b[0m\u001b[0;34m]\u001b[0m\u001b[0;34m)\u001b[0m\u001b[0;34m)\u001b[0m\u001b[0;34m\u001b[0m\u001b[0;34m\u001b[0m\u001b[0m\n\u001b[1;32m      4\u001b[0m     \u001b[0mprint\u001b[0m\u001b[0;34m(\u001b[0m\u001b[0mfilename\u001b[0m\u001b[0;34m)\u001b[0m\u001b[0;34m\u001b[0m\u001b[0;34m\u001b[0m\u001b[0m\n\u001b[1;32m      5\u001b[0m \u001b[0;34m\u001b[0m\u001b[0m\n",
      "\u001b[0;31mNameError\u001b[0m: name 'scenario' is not defined"
     ]
    }
   ],
   "source": [
    "for i in range(len(scenario)):\n",
    "    print(\"========================================================================================\")\n",
    "    filename = os.path.join(root_folder, label_folder, \"nfstream\", \"extract_traffic_{}_nfstream.csv\".format(scenario[i])) \n",
    "    print(filename)\n",
    "    \n",
    "    labeling_abs_file = os.path.join(root_folder, scenario_folder[i],\"labeling_file_path.txt\")\n",
    "    labeling_list = None\n",
    "    with open(labeling_abs_file, \"r\") as fp:\n",
    "        labeling_list = json.load(fp)\n",
    "        \n",
    "    print(labeling_list)\n",
    "\n",
    "    result_abs_path = os.path.join(root_folder, label_folder, \"nfstream\", \"labeled\")\n",
    "    result_file_name = \"label_traffic_{}_nfstream.csv\".format(scenario[i])\n",
    "\n",
    "    # filter: start <-> end\n",
    "    start = labeling_list[0][3]\n",
    "    print(start)\n",
    "    end = labeling_list[-1][4]\n",
    "    print(end)\n",
    "    \n",
    "    df = pd.read_csv(filename)\n",
    "        \n",
    "    # convert the timetstamps to 10 digits\n",
    "    df[\"bidirectional_first_seen_ms\"] = df['bidirectional_first_seen_ms'].apply(lambda x: (int(x)/1000))\n",
    "    df.head()  \n",
    "    # df = df[(df['bidirectional_first_seen_ms'] >= start) & (df['bidirectional_first_seen_ms'] <= end)]\n",
    "    \n",
    "    # df.loc['bidirectional_first_seen_ms'].head()\n",
    "    \n",
    "    # # add label column\n",
    "    # label = [-1]*len(df)  # -1: delete, 0: normal, 1: abnormal\n",
    "    # df['Label'] = label\n",
    "    # label_lifecycle = [-1]*len(df)  # -1: delete, 0: normal, 1: abnormal\n",
    "    # df['Label_lifecycle'] = label_lifecycle\n",
    "        \n",
    "\n",
    "    # for stage_list in labeling_list:\n",
    "    #     tactic_name = stage_list[0]\n",
    "    #     technique_name = stage_list[1]\n",
    "    #     sub_technique_name = stage_list[2]\n",
    "    #     start_time = stage_list[3]\n",
    "    #     end_time = stage_list[4]\n",
    "    #     srcip_list = stage_list[5]\n",
    "    #     dstip_list = stage_list[6]\n",
    "    #     normalip_list = stage_list[7]\n",
    "    #     label = stage_list[12]\n",
    "\n",
    "    #     stage = df[(df['bidirectional_first_seen_ms'] >= start_time) & (df['bidirectional_first_seen_ms'] < end_time)]\n",
    "    #     normal_idx = stage[stage['src_ip'].isin(normalip_list) | stage['dst_ip'].isin(normalip_list)].index\n",
    "    #     df.loc[normal_idx, 'Label'] = 0\n",
    "    #     df.loc[normal_idx, 'Label_lifecycle'] = 0\n",
    "    #         # df.loc[normal_idx, 'Tactic'] = 'Normal'\n",
    "    #         # df.loc[normal_idx, 'Technique'] = 'Normal'\n",
    "    #         # df.loc[normal_idx, 'SubTechnique'] = 'Normal'\n",
    "\n",
    "    #     abnormal_idx = stage[((stage['src_ip'].isin(srcip_list)) & (stage['dst_ip'].isin(dstip_list))) | ((stage['src_ip'].isin(dstip_list)) & (stage['dst_ip'].isin(srcip_list)))].index\n",
    "    #     df.loc[abnormal_idx, 'Label'] = label\n",
    "    #     df.loc[abnormal_idx, 'Label_lifecycle'] = i+1\n",
    "    #         # df.loc[abnormal_idx, 'Tactic'] = tactic_name\n",
    "    #         # df.loc[abnormal_idx, 'Technique'] = technique_name\n",
    "    #         # df.loc[abnormal_idx, 'SubTechnique'] = sub_technique_name\n",
    "\n",
    "    #     stage = df[(df['bidirectional_first_seen_ms'] >= start_time) & (df['bidirectional_first_seen_ms'] < end_time)]\n",
    "    #     del_idx = stage[stage['Label'] == -1].index\n",
    "    #     df = df.drop(del_idx)\n",
    "\n",
    "    # df = df[df['Label'] != -1]\n",
    "\n",
    "    # df.reset_index(drop=True)\n",
    "\n",
    "    # if not os.path.exists(result_abs_path):\n",
    "    #     os.makedirs(result_abs_path)\n",
    "    # df.to_csv(os.path.join(result_abs_path, result_file_name), index=False)\n"
   ]
  },
  {
   "cell_type": "code",
   "execution_count": null,
   "metadata": {},
   "outputs": [],
   "source": [
    "def get_timestamps_non_mirai(scenario, log_folder):\n",
    "    label_number = 0\n",
    "    timestamp_namelist = []\n",
    "    timestamps_nonmirai = []\n",
    "    timestamp_num = label_number * 2\n",
    "    \n",
    "    try:\n",
    "        # get start and end timestamps\n",
    "        for i in range(label_number):\n",
    "            i += 1\n",
    "            timestamp_namelist.append(os.path.join(log_folder, \"time_step_\"+str(i)+\"_start.txt\"))\n",
    "            timestamp_namelist.append(os.path.join(log_folder, \"time_step_\"+str(i)+\"_end.txt\"))\n",
    "\n",
    "        for i in range(timestamp_num):\n",
    "            with open(timestamp_namelist[i], 'rt') as f:\n",
    "                # read to sec\n",
    "                timestamps_nonmirai.append(f.readline(10))\n",
    "\n",
    "        timestamps = [int(float(i)) for i in timestamps_nonmirai]\n",
    "        print(timestamps_nonmirai)\n",
    "        return timestamps_nonmirai\n",
    "\n",
    "    except Exception as e:\n",
    "        print(e)\n",
    "        "
   ]
  }
 ],
 "metadata": {
  "kernelspec": {
   "display_name": "base",
   "language": "python",
   "name": "python3"
  },
  "language_info": {
   "codemirror_mode": {
    "name": "ipython",
    "version": 3
   },
   "file_extension": ".py",
   "mimetype": "text/x-python",
   "name": "python",
   "nbconvert_exporter": "python",
   "pygments_lexer": "ipython3",
   "version": "3.9.13"
  },
  "orig_nbformat": 4
 },
 "nbformat": 4,
 "nbformat_minor": 2
}
