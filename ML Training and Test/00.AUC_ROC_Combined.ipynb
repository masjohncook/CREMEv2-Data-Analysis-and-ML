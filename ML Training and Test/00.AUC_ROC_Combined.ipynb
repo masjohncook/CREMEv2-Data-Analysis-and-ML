{
 "cells": [
  {
   "attachments": {},
   "cell_type": "markdown",
   "metadata": {},
   "source": [
    "1. Initialization\n"
   ]
  },
  {
   "cell_type": "code",
   "execution_count": 4,
   "metadata": {},
   "outputs": [
    {
     "name": "stdout",
     "output_type": "stream",
     "text": [
      "Path is exists:  label_syslog_technique.csv\n",
      "Path is exists:  label_syslog_lifecycle.csv\n"
     ]
    }
   ],
   "source": [
    "import matplotlib.pyplot as plt\n",
    "from sklearn import preprocessing\n",
    "from xgboost import XGBClassifier\n",
    "from sklearn.model_selection import train_test_split\n",
    "import os\n",
    "import pandas as pd\n",
    "import numpy as np\n",
    "from imblearn.over_sampling import SMOTE\n",
    "import time\n",
    "import pickle\n",
    "from sklearn.metrics import accuracy_score, f1_score, precision_score, recall_score, roc_auc_score, auc, RocCurveDisplay, roc_curve\n",
    "import json\n",
    "from sklearn.preprocessing import LabelBinarizer\n",
    "from itertools import cycle\n",
    "import seaborn as sns\n",
    "\n",
    "\n",
    "# folder = os.path.join(\"/\", \"Data\", \"CREMEv2_Result\", \"20230310\", \"logs_working\", \"toTrain\")\n",
    "folder = '../CREME_dataset'\n",
    "train_technique = [\"label_syslog_technique.csv\"]\n",
    "train_lifecycle = [\"label_syslog_lifecycle.csv\"]\n",
    "# datas = [\"syslog\"]\n",
    "\n",
    "\n",
    "for data in train_technique:\n",
    "    if os.path.exists(os.path.join(folder, data)):\n",
    "        print(\"Path is exists: \", data)\n",
    "    else:\n",
    "        print(\"Path is not exists: \", data)\n",
    "        \n",
    "for data in train_lifecycle:\n",
    "    if os.path.exists(os.path.join(folder, data)):\n",
    "        print(\"Path is exists: \", data)\n",
    "    else:\n",
    "        print(\"Path is not exists: \", data)"
   ]
  },
  {
   "attachments": {},
   "cell_type": "markdown",
   "metadata": {},
   "source": [
    "2. Model Definition and Parameters Settings"
   ]
  },
  {
   "cell_type": "code",
   "execution_count": 5,
   "metadata": {},
   "outputs": [
    {
     "name": "stdout",
     "output_type": "stream",
     "text": [
      "['model_xgboost_syslog_technique', 'model_xgboost_syslog_lifecycle']\n"
     ]
    }
   ],
   "source": [
    "r_state = 42\n",
    "core = -1\n",
    "model = XGBClassifier(objective='multi:softprob', eval_metric='merror', n_jobs=core)\n",
    "\n",
    "evaluation_data = {}\n",
    "\n",
    "model_name = list()\n",
    "for data in train_technique:\n",
    "    remove_extension = data.split('.')\n",
    "    name = remove_extension[0].split('_')\n",
    "    model_filename = 'model_xgboost_{}_{}'.format(name[1], name[-1])\n",
    "    model_name += [model_filename]\n",
    "\n",
    "for data in train_lifecycle:\n",
    "    remove_extension = data.split('.')\n",
    "    name = remove_extension[0].split('_')\n",
    "    model_filename = 'model_xgboost_{}_{}'.format(name[1], name[-1])\n",
    "    model_name += [model_filename]\n",
    "\n",
    "print(model_name)\n"
   ]
  },
  {
   "attachments": {},
   "cell_type": "markdown",
   "metadata": {},
   "source": [
    "3. Training and testing (Technique)"
   ]
  },
  {
   "cell_type": "code",
   "execution_count": 6,
   "metadata": {},
   "outputs": [
    {
     "name": "stdout",
     "output_type": "stream",
     "text": [
      "Processing dataset:  label_syslog_technique.csv\n",
      "Dump  model_xgboost_syslog_technique\n",
      "Execution Time: 21.50\n",
      "\n"
     ]
    }
   ],
   "source": [
    "for i, data in enumerate(train_technique):\n",
    "    print(\"Processing dataset: \", data)\n",
    "    start_time = time.time()\n",
    "    df = pd.read_csv(os.path.join(folder, data))\n",
    "    model_folder = \"model_auroc_combined\"\n",
    "\n",
    "    label_origin = sorted([int(i) for i in df['Label'].unique()])\n",
    "    le = preprocessing.LabelEncoder()\n",
    "    le.fit(df['Label'])\n",
    "    le_origin_mapping = dict(zip(le.classes_, le.transform(le.classes_)))\n",
    "    origin_le_mapping = dict(zip(le.transform(le.classes_), le.classes_))\n",
    "\n",
    "    X = df.drop(columns=['Label', 'HostName', 'Label_lifecycle'])\n",
    "    X = X.to_numpy()\n",
    "    # X = X.reshape(-1)\n",
    "    y = df['Label']\n",
    "    y = y.to_numpy()\n",
    "    y = y.reshape(-1)\n",
    "    y = le.transform(y)\n",
    "    \n",
    "    class_label = list(label_origin)\n",
    "\n",
    "    # print(\"Train Test Split\")\n",
    "    X_train, X_test, y_train, y_test = train_test_split(X, y, test_size = 0.2, random_state=r_state)\n",
    "\n",
    "    # print(\"Data balancing\")\n",
    "    # X_train, y_train = SMOTE(n_jobs=-1, random_state=r_state).fit_resample(X_train, y_train)\n",
    "    \n",
    "    if os.path.exists(os.path.join(model_folder, model_name[i])):\n",
    "        print(\"Load \", model_name[i])\n",
    "        model = pickle.load(open(os.path.join(model_folder, model_name[i]), 'rb'))\n",
    "    else:\n",
    "        model.fit(X_train, y_train)\n",
    "        print(\"Dump \", model_name[i])\n",
    "        pickle.dump(model, open(os.path.join(model_folder, model_name[i]), 'wb'))\n",
    "    y_score = model.predict_proba(X_test)\n",
    "    label_binarizer = LabelBinarizer().fit(y_train)\n",
    "    y_onehot_test = label_binarizer.transform(y_test)\n",
    "    \n",
    "    evaluation_data[model_name[i]] = list((y_test, y_onehot_test, y_score))\n",
    "    end_time = time.time()\n",
    "    \n",
    "    print(\"Execution Time: {:.2f}\\n\".format(end_time - start_time))"
   ]
  },
  {
   "attachments": {},
   "cell_type": "markdown",
   "metadata": {},
   "source": [
    "4. Training and testing (Lifecycle)"
   ]
  },
  {
   "cell_type": "code",
   "execution_count": 7,
   "metadata": {},
   "outputs": [
    {
     "name": "stdout",
     "output_type": "stream",
     "text": [
      "Processing dataset:  label_syslog_lifecycle.csv\n"
     ]
    },
    {
     "name": "stderr",
     "output_type": "stream",
     "text": [
      "/usr/local/lib/python3.11/site-packages/imblearn/over_sampling/_smote/base.py:345: FutureWarning: The parameter `n_jobs` has been deprecated in 0.10 and will be removed in 0.12. You can pass an nearest neighbors estimator where `n_jobs` is already set instead.\n",
      "  warnings.warn(\n"
     ]
    },
    {
     "name": "stdout",
     "output_type": "stream",
     "text": [
      "Dump  model_xgboost_syslog_lifecycle\n",
      "Execution Time: 34.49\n",
      "\n"
     ]
    }
   ],
   "source": [
    "for i, data in enumerate(train_lifecycle):\n",
    "    print(\"Processing dataset: \", data)\n",
    "    start_time = time.time()\n",
    "    df = pd.read_csv(os.path.join(folder, data))\n",
    "    model_folder = \"model_auroc_combined\"\n",
    "\n",
    "    label_origin = sorted([int(i) for i in df['Label_lifecycle'].unique()])\n",
    "    le = preprocessing.LabelEncoder()\n",
    "    le.fit(df['Label_lifecycle'])\n",
    "    le_origin_mapping = dict(zip(le.classes_, le.transform(le.classes_)))\n",
    "    origin_le_mapping = dict(zip(le.transform(le.classes_), le.classes_))\n",
    "\n",
    "    X = df.drop(columns=['Label', 'HostName', 'Label_lifecycle'])\n",
    "    X = X.to_numpy()\n",
    "    # X = X.reshape(-1)\n",
    "    y = df['Label_lifecycle']\n",
    "    y = y.to_numpy()\n",
    "    y = y.reshape(-1)\n",
    "    y = le.transform(y)\n",
    "    \n",
    "    class_label = list(label_origin)\n",
    "\n",
    "\n",
    "\n",
    "    # print(\"Train Test Split\")\n",
    "    X_train, X_test, y_train, y_test = train_test_split(X, y, test_size = 0.2, random_state=r_state)\n",
    "\n",
    "    # print(\"Data balancing\")\n",
    "    X_train, y_train = SMOTE(n_jobs=-1, random_state=r_state).fit_resample(X_train, y_train)\n",
    "    offset = len(train_technique)\n",
    "    \n",
    "    if os.path.exists(os.path.join(model_folder, model_name[i+offset])):\n",
    "        print(\"Load \", model_name[i+offset])\n",
    "        model = pickle.load(open(os.path.join(model_folder, model_name[i+offset]), 'rb'))\n",
    "    else:\n",
    "        model.fit(X_train, y_train)\n",
    "        print(\"Dump \", model_name[i+offset])\n",
    "        pickle.dump(model, open(os.path.join(model_folder, model_name[i+offset]), 'wb'))\n",
    "    y_score = model.predict_proba(X_test)\n",
    "    label_binarizer = LabelBinarizer().fit(y_train)\n",
    "    y_onehot_test = label_binarizer.transform(y_test)\n",
    "    \n",
    "    evaluation_data[model_name[i+offset]] = list((y_test, y_onehot_test, y_score))\n",
    "    end_time = time.time()\n",
    "    \n",
    "    print(\"Execution Time: {:.2f}\\n\".format(end_time - start_time))"
   ]
  },
  {
   "cell_type": "code",
   "execution_count": 8,
   "metadata": {},
   "outputs": [
    {
     "name": "stdout",
     "output_type": "stream",
     "text": [
      "model_xgboost_syslog_technique\n",
      "model_xgboost_syslog_lifecycle\n"
     ]
    }
   ],
   "source": [
    "for key, value in evaluation_data.items():\n",
    "    print(key)\n",
    "    "
   ]
  },
  {
   "attachments": {},
   "cell_type": "markdown",
   "metadata": {},
   "source": [
    "5. Calculate AUROC micro average"
   ]
  },
  {
   "cell_type": "code",
   "execution_count": 9,
   "metadata": {},
   "outputs": [
    {
     "name": "stdout",
     "output_type": "stream",
     "text": [
      "Micro average : 1.00\n",
      "Micro average : 0.99\n"
     ]
    }
   ],
   "source": [
    "roc_data_micro = dict()\n",
    "\n",
    "for data in model_name:\n",
    "    # stores all informations\n",
    "    tpr, fpr, roc_auc = dict(), dict(), dict()\n",
    "    fpr['micro'],  tpr['micro'], _ = roc_curve(evaluation_data[data][1].ravel(), evaluation_data[data][2].ravel())\n",
    "    roc_auc['micro'] = auc(fpr['micro'], tpr['micro'])\n",
    "    roc_data_micro[data] = list((fpr['micro'], tpr['micro'], roc_auc['micro']))\n",
    "\n",
    "    print(\"Micro average : {:.2f}\".format(roc_auc['micro']))\n"
   ]
  },
  {
   "attachments": {},
   "cell_type": "markdown",
   "metadata": {},
   "source": [
    "6. Calculate AUROC macro average"
   ]
  },
  {
   "cell_type": "code",
   "execution_count": 10,
   "metadata": {},
   "outputs": [
    {
     "name": "stdout",
     "output_type": "stream",
     "text": [
      "Macro average of  : 0.98\n",
      "Macro average of  : 0.98\n"
     ]
    }
   ],
   "source": [
    "roc_data_macro = dict()\n",
    "\n",
    "for data in model_name:\n",
    "    for i in range(len(class_label)):\n",
    "        fpr[i], tpr[i], _ = roc_curve(evaluation_data[data][1][:, i], evaluation_data[data][2][:, i])\n",
    "        roc_auc[i] = auc(fpr[i], tpr[i])\n",
    "        \n",
    "    fpr_grid = np.linspace(0.0, 1.0, 1000)\n",
    "    \n",
    "    mean_tpr = np.zeros_like(fpr_grid)\n",
    "    \n",
    "    skip = 0\n",
    "    for i in range(len(class_label)):\n",
    "        inter = np.interp(fpr_grid, fpr[i], tpr[i])\n",
    "        if np.isnan(inter[0]):\n",
    "            skip += 1\n",
    "            continue\n",
    "        mean_tpr += inter\n",
    "    \n",
    "    mean_tpr /= len(class_label) - skip\n",
    "    \n",
    "    fpr['macro'] = fpr_grid\n",
    "    tpr['macro'] = mean_tpr\n",
    "    roc_auc['macro'] = auc(fpr['macro'], tpr['macro'])\n",
    "    \n",
    "    roc_data_macro[data] = list((fpr['macro'], tpr['macro'], roc_auc['macro']))\n",
    "    \n",
    "    \n",
    "\n",
    "    print(\"Macro average of  : {:.2f}\".format(roc_auc['macro']))"
   ]
  },
  {
   "attachments": {},
   "cell_type": "markdown",
   "metadata": {},
   "source": [
    "7. Plot to diagram"
   ]
  },
  {
   "cell_type": "code",
   "execution_count": 11,
   "metadata": {},
   "outputs": [
    {
     "data": {
      "image/png": "[encoded data removed]",
      "text/plain": [
       "<Figure size 1000x1000 with 1 Axes>"
      ]
     },
     "metadata": {},
     "output_type": "display_data"
    }
   ],
   "source": [
    "\n",
    "\n",
    "fig, ax = plt.subplots(figsize=(10, 10))\n",
    "legend_data = [\"TA \",\n",
    "               \"TS\",\n",
    "               \"TT\",\n",
    "               \"LA\",\n",
    "               \"LS\",\n",
    "               \"LT\"\n",
    "               ]\n",
    "\n",
    "\n",
    "# plt.plot(\n",
    "#     roc_data_micro['model_xgboost_accounting_technique'][0],\n",
    "#     roc_data_micro['model_xgboost_accounting_technique'][1],\n",
    "#     label=\"Micro of {}=>AUC={:.2f}\".format(legend_data[0], roc_data_micro['model_xgboost_accounting_technique'][2]),\n",
    "#     color='red', \n",
    "#     linestyle='solid'\n",
    "# )\n",
    "\n",
    "# plt.plot(\n",
    "#     roc_data_macro['model_xgboost_accounting_technique'][0],\n",
    "#     roc_data_macro['model_xgboost_accounting_technique'][1],\n",
    "#     label=\"Macro of {}=>AUC={:.2f}\".format(legend_data[0], roc_data_macro['model_xgboost_accounting_technique'][2]),\n",
    "#     color='red',\n",
    "#     linestyle='dashed'\n",
    "# )\n",
    "\n",
    "plt.plot(\n",
    "    roc_data_micro['model_xgboost_syslog_technique'][0],\n",
    "    roc_data_micro['model_xgboost_syslog_technique'][1],\n",
    "    label=\"Micro of {}=>AUC={:.2f}\".format(legend_data[1], roc_data_micro['model_xgboost_syslog_technique'][2]),\n",
    "    color='green',\n",
    "    linestyle='solid'\n",
    ")\n",
    "\n",
    "plt.plot(\n",
    "    roc_data_macro['model_xgboost_syslog_technique'][0],\n",
    "    roc_data_macro['model_xgboost_syslog_technique'][1],\n",
    "    label=\"Macro of {}=>AUC={:.2f}\".format(legend_data[1], roc_data_macro['model_xgboost_syslog_technique'][2]),\n",
    "    color='green',\n",
    "    linestyle='dashed'\n",
    ")\n",
    "\n",
    "# plt.plot(\n",
    "#     roc_data_micro['model_xgboost_traffic_technique'][0],\n",
    "#     roc_data_micro['model_xgboost_traffic_technique'][1],\n",
    "#     label=\"Micro of {}=>AUC={:.2f}\".format(legend_data[2], roc_data_micro['model_xgboost_traffic_technique'][2]),\n",
    "#     color='blue',\n",
    "#     linestyle='solid'\n",
    "# )\n",
    "\n",
    "# plt.plot(\n",
    "#     roc_data_macro['model_xgboost_traffic_technique'][0],\n",
    "#     roc_data_macro['model_xgboost_traffic_technique'][1],\n",
    "#     label=\"Macro of {}=>AUC={:.2f}\".format(legend_data[2], roc_data_macro['model_xgboost_traffic_technique'][2]),\n",
    "#     color='blue',\n",
    "#     linestyle='dashed'\n",
    "# )\n",
    "\n",
    "# plt.plot(\n",
    "#     roc_data_micro['model_xgboost_accounting_lifecycle'][0],\n",
    "#     roc_data_micro['model_xgboost_accounting_lifecycle'][1],\n",
    "#     label=\"Micro of {}=>AUC={:.2f}\".format(legend_data[3], roc_data_micro['model_xgboost_accounting_lifecycle'][2]),\n",
    "#     color='red',\n",
    "#     linestyle='dashdot'\n",
    "# )\n",
    "\n",
    "# plt.plot(\n",
    "#     roc_data_macro['model_xgboost_accounting_lifecycle'][0],\n",
    "#     roc_data_macro['model_xgboost_accounting_lifecycle'][1],\n",
    "#     label=\"Macro of {}=>AUC={:.2f}\".format(legend_data[3], roc_data_macro['model_xgboost_accounting_lifecycle'][2]),\n",
    "#     color='red',\n",
    "#     linestyle='dotted'\n",
    "# )\n",
    "\n",
    "plt.plot(\n",
    "    roc_data_micro['model_xgboost_syslog_lifecycle'][0],\n",
    "    roc_data_micro['model_xgboost_syslog_lifecycle'][1],\n",
    "    label=\"Micro of {}=>AUC={:.2f}\".format(legend_data[4], roc_data_micro['model_xgboost_syslog_lifecycle'][2]),\n",
    "    color='green',\n",
    "    linestyle='dashdot'\n",
    ")\n",
    "\n",
    "plt.plot(\n",
    "    roc_data_macro['model_xgboost_syslog_lifecycle'][0],\n",
    "    roc_data_macro['model_xgboost_syslog_lifecycle'][1],\n",
    "    label=\"Macro of {}=>AUC={:.2f}\".format(legend_data[4], roc_data_macro['model_xgboost_syslog_lifecycle'][2]),\n",
    "    color='green',\n",
    "    linestyle='dotted'\n",
    ")\n",
    "\n",
    "# plt.plot(\n",
    "#     roc_data_micro['model_xgboost_traffic_lifecycle'][0],\n",
    "#     roc_data_micro['model_xgboost_traffic_lifecycle'][1],\n",
    "#     label=\"Micro of {}=>AUC={:.2f}\".format(legend_data[5], roc_data_micro['model_xgboost_traffic_lifecycle'][2]),\n",
    "#     color='blue',\n",
    "#     linestyle='dashdot'\n",
    "# )\n",
    "\n",
    "# plt.plot(\n",
    "#     roc_data_macro['model_xgboost_traffic_lifecycle'][0],\n",
    "#     roc_data_macro['model_xgboost_traffic_lifecycle'][1],\n",
    "#     label=\"Macro of {}=>AUC={:.2f}\".format(legend_data[5], roc_data_macro['model_xgboost_traffic_lifecycle'][2]),\n",
    "#     color='blue',\n",
    "#     linestyle='dotted'\n",
    "# )\n",
    "\n",
    "\n",
    "\n",
    "plt.plot([0, 1], [0, 1], \"k--\", label=\"ROC chance level=>AUC=0.5)\")\n",
    "plt.axis(\"square\")\n",
    "plt.tick_params(axis='both', labelsize=14)\n",
    "plt.xlabel(\"False Positive Rate\", fontsize=14)\n",
    "plt.ylabel(\"True Positive Rate\", fontsize=14)\n",
    "# plt.title(\"ROC Curve of Micro and Macro Average for All Dataset in Technique\")\n",
    "plt.legend()\n",
    "plt.show()"
   ]
  }
 ],
 "metadata": {
  "kernelspec": {
   "display_name": "base",
   "language": "python",
   "name": "python3"
  },
  "language_info": {
   "codemirror_mode": {
    "name": "ipython",
    "version": 3
   },
   "file_extension": ".py",
   "mimetype": "text/x-python",
   "name": "python",
   "nbconvert_exporter": "python",
   "pygments_lexer": "ipython3",
   "version": "3.11.5"
  },
  "orig_nbformat": 4
 },
 "nbformat": 4,
 "nbformat_minor": 2
}
